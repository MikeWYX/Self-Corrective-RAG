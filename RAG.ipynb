{
 "cells": [
  {
   "cell_type": "code",
   "execution_count": null,
   "metadata": {
    "id": "4h8KAktcWoDM"
   },
   "outputs": [],
   "source": [
    "import openai"
   ]
  },
  {
   "cell_type": "code",
   "execution_count": null,
   "metadata": {
    "id": "wLYM0AmIW8CO"
   },
   "outputs": [],
   "source": [
    "import os\n",
    "os.environ[\"OPENAI_API_KEY\"] =\"\""
   ]
  },
  {
   "cell_type": "code",
   "execution_count": null,
   "metadata": {
    "colab": {
     "base_uri": "https://localhost:8080/"
    },
    "collapsed": true,
    "executionInfo": {
     "elapsed": 10342,
     "status": "ok",
     "timestamp": 1737270104663,
     "user": {
      "displayName": "YuXing Wu",
      "userId": "06505796107505570616"
     },
     "user_tz": -480
    },
    "id": "EtRxhnta8haf",
    "outputId": "8998d6e4-df44-4ddc-8653-cf05cfaa6d15"
   },
   "outputs": [
    {
     "name": "stdout",
     "output_type": "stream",
     "text": [
      "Collecting langchain-community\n",
      "  Downloading langchain_community-0.3.14-py3-none-any.whl.metadata (2.9 kB)\n",
      "Requirement already satisfied: PyYAML>=5.3 in /usr/local/lib/python3.10/dist-packages (from langchain-community) (6.0.2)\n",
      "Requirement already satisfied: SQLAlchemy<3,>=1.4 in /usr/local/lib/python3.10/dist-packages (from langchain-community) (2.0.36)\n",
      "Requirement already satisfied: aiohttp<4.0.0,>=3.8.3 in /usr/local/lib/python3.10/dist-packages (from langchain-community) (3.11.10)\n",
      "Collecting dataclasses-json<0.7,>=0.5.7 (from langchain-community)\n",
      "  Downloading dataclasses_json-0.6.7-py3-none-any.whl.metadata (25 kB)\n",
      "Collecting httpx-sse<0.5.0,>=0.4.0 (from langchain-community)\n",
      "  Downloading httpx_sse-0.4.0-py3-none-any.whl.metadata (9.0 kB)\n",
      "Collecting langchain<0.4.0,>=0.3.14 (from langchain-community)\n",
      "  Downloading langchain-0.3.14-py3-none-any.whl.metadata (7.1 kB)\n",
      "Collecting langchain-core<0.4.0,>=0.3.29 (from langchain-community)\n",
      "  Downloading langchain_core-0.3.30-py3-none-any.whl.metadata (6.3 kB)\n",
      "Requirement already satisfied: langsmith<0.3,>=0.1.125 in /usr/local/lib/python3.10/dist-packages (from langchain-community) (0.2.3)\n",
      "Requirement already satisfied: numpy<2,>=1.22.4 in /usr/local/lib/python3.10/dist-packages (from langchain-community) (1.26.4)\n",
      "Collecting pydantic-settings<3.0.0,>=2.4.0 (from langchain-community)\n",
      "  Downloading pydantic_settings-2.7.1-py3-none-any.whl.metadata (3.5 kB)\n",
      "Requirement already satisfied: requests<3,>=2 in /usr/local/lib/python3.10/dist-packages (from langchain-community) (2.32.3)\n",
      "Requirement already satisfied: tenacity!=8.4.0,<10,>=8.1.0 in /usr/local/lib/python3.10/dist-packages (from langchain-community) (9.0.0)\n",
      "Requirement already satisfied: aiohappyeyeballs>=2.3.0 in /usr/local/lib/python3.10/dist-packages (from aiohttp<4.0.0,>=3.8.3->langchain-community) (2.4.4)\n",
      "Requirement already satisfied: aiosignal>=1.1.2 in /usr/local/lib/python3.10/dist-packages (from aiohttp<4.0.0,>=3.8.3->langchain-community) (1.3.2)\n",
      "Requirement already satisfied: async-timeout<6.0,>=4.0 in /usr/local/lib/python3.10/dist-packages (from aiohttp<4.0.0,>=3.8.3->langchain-community) (4.0.3)\n",
      "Requirement already satisfied: attrs>=17.3.0 in /usr/local/lib/python3.10/dist-packages (from aiohttp<4.0.0,>=3.8.3->langchain-community) (24.3.0)\n",
      "Requirement already satisfied: frozenlist>=1.1.1 in /usr/local/lib/python3.10/dist-packages (from aiohttp<4.0.0,>=3.8.3->langchain-community) (1.5.0)\n",
      "Requirement already satisfied: multidict<7.0,>=4.5 in /usr/local/lib/python3.10/dist-packages (from aiohttp<4.0.0,>=3.8.3->langchain-community) (6.1.0)\n",
      "Requirement already satisfied: propcache>=0.2.0 in /usr/local/lib/python3.10/dist-packages (from aiohttp<4.0.0,>=3.8.3->langchain-community) (0.2.1)\n",
      "Requirement already satisfied: yarl<2.0,>=1.17.0 in /usr/local/lib/python3.10/dist-packages (from aiohttp<4.0.0,>=3.8.3->langchain-community) (1.18.3)\n",
      "Collecting marshmallow<4.0.0,>=3.18.0 (from dataclasses-json<0.7,>=0.5.7->langchain-community)\n",
      "  Downloading marshmallow-3.25.1-py3-none-any.whl.metadata (7.3 kB)\n",
      "Collecting typing-inspect<1,>=0.4.0 (from dataclasses-json<0.7,>=0.5.7->langchain-community)\n",
      "  Downloading typing_inspect-0.9.0-py3-none-any.whl.metadata (1.5 kB)\n",
      "Requirement already satisfied: langchain-text-splitters<0.4.0,>=0.3.3 in /usr/local/lib/python3.10/dist-packages (from langchain<0.4.0,>=0.3.14->langchain-community) (0.3.3)\n",
      "Requirement already satisfied: pydantic<3.0.0,>=2.7.4 in /usr/local/lib/python3.10/dist-packages (from langchain<0.4.0,>=0.3.14->langchain-community) (2.10.3)\n",
      "Requirement already satisfied: jsonpatch<2.0,>=1.33 in /usr/local/lib/python3.10/dist-packages (from langchain-core<0.4.0,>=0.3.29->langchain-community) (1.33)\n",
      "Requirement already satisfied: packaging<25,>=23.2 in /usr/local/lib/python3.10/dist-packages (from langchain-core<0.4.0,>=0.3.29->langchain-community) (24.2)\n",
      "Requirement already satisfied: typing-extensions>=4.7 in /usr/local/lib/python3.10/dist-packages (from langchain-core<0.4.0,>=0.3.29->langchain-community) (4.12.2)\n",
      "Requirement already satisfied: httpx<1,>=0.23.0 in /usr/local/lib/python3.10/dist-packages (from langsmith<0.3,>=0.1.125->langchain-community) (0.28.1)\n",
      "Requirement already satisfied: orjson<4.0.0,>=3.9.14 in /usr/local/lib/python3.10/dist-packages (from langsmith<0.3,>=0.1.125->langchain-community) (3.10.12)\n",
      "Requirement already satisfied: requests-toolbelt<2.0.0,>=1.0.0 in /usr/local/lib/python3.10/dist-packages (from langsmith<0.3,>=0.1.125->langchain-community) (1.0.0)\n",
      "Collecting python-dotenv>=0.21.0 (from pydantic-settings<3.0.0,>=2.4.0->langchain-community)\n",
      "  Downloading python_dotenv-1.0.1-py3-none-any.whl.metadata (23 kB)\n",
      "Requirement already satisfied: charset-normalizer<4,>=2 in /usr/local/lib/python3.10/dist-packages (from requests<3,>=2->langchain-community) (3.4.0)\n",
      "Requirement already satisfied: idna<4,>=2.5 in /usr/local/lib/python3.10/dist-packages (from requests<3,>=2->langchain-community) (3.10)\n",
      "Requirement already satisfied: urllib3<3,>=1.21.1 in /usr/local/lib/python3.10/dist-packages (from requests<3,>=2->langchain-community) (2.2.3)\n",
      "Requirement already satisfied: certifi>=2017.4.17 in /usr/local/lib/python3.10/dist-packages (from requests<3,>=2->langchain-community) (2024.12.14)\n",
      "Requirement already satisfied: greenlet!=0.4.17 in /usr/local/lib/python3.10/dist-packages (from SQLAlchemy<3,>=1.4->langchain-community) (3.1.1)\n",
      "Requirement already satisfied: anyio in /usr/local/lib/python3.10/dist-packages (from httpx<1,>=0.23.0->langsmith<0.3,>=0.1.125->langchain-community) (3.7.1)\n",
      "Requirement already satisfied: httpcore==1.* in /usr/local/lib/python3.10/dist-packages (from httpx<1,>=0.23.0->langsmith<0.3,>=0.1.125->langchain-community) (1.0.7)\n",
      "Requirement already satisfied: h11<0.15,>=0.13 in /usr/local/lib/python3.10/dist-packages (from httpcore==1.*->httpx<1,>=0.23.0->langsmith<0.3,>=0.1.125->langchain-community) (0.14.0)\n",
      "Requirement already satisfied: jsonpointer>=1.9 in /usr/local/lib/python3.10/dist-packages (from jsonpatch<2.0,>=1.33->langchain-core<0.4.0,>=0.3.29->langchain-community) (3.0.0)\n",
      "Requirement already satisfied: annotated-types>=0.6.0 in /usr/local/lib/python3.10/dist-packages (from pydantic<3.0.0,>=2.7.4->langchain<0.4.0,>=0.3.14->langchain-community) (0.7.0)\n",
      "Requirement already satisfied: pydantic-core==2.27.1 in /usr/local/lib/python3.10/dist-packages (from pydantic<3.0.0,>=2.7.4->langchain<0.4.0,>=0.3.14->langchain-community) (2.27.1)\n",
      "Collecting mypy-extensions>=0.3.0 (from typing-inspect<1,>=0.4.0->dataclasses-json<0.7,>=0.5.7->langchain-community)\n",
      "  Downloading mypy_extensions-1.0.0-py3-none-any.whl.metadata (1.1 kB)\n",
      "Requirement already satisfied: sniffio>=1.1 in /usr/local/lib/python3.10/dist-packages (from anyio->httpx<1,>=0.23.0->langsmith<0.3,>=0.1.125->langchain-community) (1.3.1)\n",
      "Requirement already satisfied: exceptiongroup in /usr/local/lib/python3.10/dist-packages (from anyio->httpx<1,>=0.23.0->langsmith<0.3,>=0.1.125->langchain-community) (1.2.2)\n",
      "Downloading langchain_community-0.3.14-py3-none-any.whl (2.5 MB)\n",
      "\u001b[2K   \u001b[90m━━━━━━━━━━━━━━━━━━━━━━━━━━━━━━━━━━━━━━━━\u001b[0m \u001b[32m2.5/2.5 MB\u001b[0m \u001b[31m35.4 MB/s\u001b[0m eta \u001b[36m0:00:00\u001b[0m\n",
      "\u001b[?25hDownloading dataclasses_json-0.6.7-py3-none-any.whl (28 kB)\n",
      "Downloading httpx_sse-0.4.0-py3-none-any.whl (7.8 kB)\n",
      "Downloading langchain-0.3.14-py3-none-any.whl (1.0 MB)\n",
      "\u001b[2K   \u001b[90m━━━━━━━━━━━━━━━━━━━━━━━━━━━━━━━━━━━━━━━━\u001b[0m \u001b[32m1.0/1.0 MB\u001b[0m \u001b[31m40.4 MB/s\u001b[0m eta \u001b[36m0:00:00\u001b[0m\n",
      "\u001b[?25hDownloading langchain_core-0.3.30-py3-none-any.whl (411 kB)\n",
      "\u001b[2K   \u001b[90m━━━━━━━━━━━━━━━━━━━━━━━━━━━━━━━━━━━━━━━━\u001b[0m \u001b[32m411.9/411.9 kB\u001b[0m \u001b[31m24.9 MB/s\u001b[0m eta \u001b[36m0:00:00\u001b[0m\n",
      "\u001b[?25hDownloading pydantic_settings-2.7.1-py3-none-any.whl (29 kB)\n",
      "Downloading marshmallow-3.25.1-py3-none-any.whl (49 kB)\n",
      "\u001b[2K   \u001b[90m━━━━━━━━━━━━━━━━━━━━━━━━━━━━━━━━━━━━━━━━\u001b[0m \u001b[32m49.6/49.6 kB\u001b[0m \u001b[31m3.6 MB/s\u001b[0m eta \u001b[36m0:00:00\u001b[0m\n",
      "\u001b[?25hDownloading python_dotenv-1.0.1-py3-none-any.whl (19 kB)\n",
      "Downloading typing_inspect-0.9.0-py3-none-any.whl (8.8 kB)\n",
      "Downloading mypy_extensions-1.0.0-py3-none-any.whl (4.7 kB)\n",
      "Installing collected packages: python-dotenv, mypy-extensions, marshmallow, httpx-sse, typing-inspect, pydantic-settings, dataclasses-json, langchain-core, langchain, langchain-community\n",
      "  Attempting uninstall: langchain-core\n",
      "    Found existing installation: langchain-core 0.3.25\n",
      "    Uninstalling langchain-core-0.3.25:\n",
      "      Successfully uninstalled langchain-core-0.3.25\n",
      "  Attempting uninstall: langchain\n",
      "    Found existing installation: langchain 0.3.12\n",
      "    Uninstalling langchain-0.3.12:\n",
      "      Successfully uninstalled langchain-0.3.12\n",
      "Successfully installed dataclasses-json-0.6.7 httpx-sse-0.4.0 langchain-0.3.14 langchain-community-0.3.14 langchain-core-0.3.30 marshmallow-3.25.1 mypy-extensions-1.0.0 pydantic-settings-2.7.1 python-dotenv-1.0.1 typing-inspect-0.9.0\n"
     ]
    }
   ],
   "source": [
    "!pip install -U langchain-community"
   ]
  },
  {
   "cell_type": "code",
   "execution_count": null,
   "metadata": {
    "colab": {
     "base_uri": "https://localhost:8080/"
    },
    "collapsed": true,
    "executionInfo": {
     "elapsed": 7899,
     "status": "ok",
     "timestamp": 1737270112556,
     "user": {
      "displayName": "YuXing Wu",
      "userId": "06505796107505570616"
     },
     "user_tz": -480
    },
    "id": "-IRhcuHU-Pj1",
    "outputId": "f6fdda12-a38b-4b39-80aa-7f76b8b82d64"
   },
   "outputs": [
    {
     "name": "stdout",
     "output_type": "stream",
     "text": [
      "Collecting langchain-openai\n",
      "  Downloading langchain_openai-0.3.0-py3-none-any.whl.metadata (2.7 kB)\n",
      "Requirement already satisfied: langchain-core<0.4.0,>=0.3.29 in /usr/local/lib/python3.10/dist-packages (from langchain-openai) (0.3.30)\n",
      "Collecting openai<2.0.0,>=1.58.1 (from langchain-openai)\n",
      "  Downloading openai-1.59.8-py3-none-any.whl.metadata (27 kB)\n",
      "Collecting tiktoken<1,>=0.7 (from langchain-openai)\n",
      "  Downloading tiktoken-0.8.0-cp310-cp310-manylinux_2_17_x86_64.manylinux2014_x86_64.whl.metadata (6.6 kB)\n",
      "Requirement already satisfied: PyYAML>=5.3 in /usr/local/lib/python3.10/dist-packages (from langchain-core<0.4.0,>=0.3.29->langchain-openai) (6.0.2)\n",
      "Requirement already satisfied: jsonpatch<2.0,>=1.33 in /usr/local/lib/python3.10/dist-packages (from langchain-core<0.4.0,>=0.3.29->langchain-openai) (1.33)\n",
      "Requirement already satisfied: langsmith<0.3,>=0.1.125 in /usr/local/lib/python3.10/dist-packages (from langchain-core<0.4.0,>=0.3.29->langchain-openai) (0.2.3)\n",
      "Requirement already satisfied: packaging<25,>=23.2 in /usr/local/lib/python3.10/dist-packages (from langchain-core<0.4.0,>=0.3.29->langchain-openai) (24.2)\n",
      "Requirement already satisfied: pydantic<3.0.0,>=2.5.2 in /usr/local/lib/python3.10/dist-packages (from langchain-core<0.4.0,>=0.3.29->langchain-openai) (2.10.3)\n",
      "Requirement already satisfied: tenacity!=8.4.0,<10.0.0,>=8.1.0 in /usr/local/lib/python3.10/dist-packages (from langchain-core<0.4.0,>=0.3.29->langchain-openai) (9.0.0)\n",
      "Requirement already satisfied: typing-extensions>=4.7 in /usr/local/lib/python3.10/dist-packages (from langchain-core<0.4.0,>=0.3.29->langchain-openai) (4.12.2)\n",
      "Requirement already satisfied: anyio<5,>=3.5.0 in /usr/local/lib/python3.10/dist-packages (from openai<2.0.0,>=1.58.1->langchain-openai) (3.7.1)\n",
      "Requirement already satisfied: distro<2,>=1.7.0 in /usr/local/lib/python3.10/dist-packages (from openai<2.0.0,>=1.58.1->langchain-openai) (1.9.0)\n",
      "Requirement already satisfied: httpx<1,>=0.23.0 in /usr/local/lib/python3.10/dist-packages (from openai<2.0.0,>=1.58.1->langchain-openai) (0.28.1)\n",
      "Requirement already satisfied: jiter<1,>=0.4.0 in /usr/local/lib/python3.10/dist-packages (from openai<2.0.0,>=1.58.1->langchain-openai) (0.8.2)\n",
      "Requirement already satisfied: sniffio in /usr/local/lib/python3.10/dist-packages (from openai<2.0.0,>=1.58.1->langchain-openai) (1.3.1)\n",
      "Requirement already satisfied: tqdm>4 in /usr/local/lib/python3.10/dist-packages (from openai<2.0.0,>=1.58.1->langchain-openai) (4.67.1)\n",
      "Requirement already satisfied: regex>=2022.1.18 in /usr/local/lib/python3.10/dist-packages (from tiktoken<1,>=0.7->langchain-openai) (2024.11.6)\n",
      "Requirement already satisfied: requests>=2.26.0 in /usr/local/lib/python3.10/dist-packages (from tiktoken<1,>=0.7->langchain-openai) (2.32.3)\n",
      "Requirement already satisfied: idna>=2.8 in /usr/local/lib/python3.10/dist-packages (from anyio<5,>=3.5.0->openai<2.0.0,>=1.58.1->langchain-openai) (3.10)\n",
      "Requirement already satisfied: exceptiongroup in /usr/local/lib/python3.10/dist-packages (from anyio<5,>=3.5.0->openai<2.0.0,>=1.58.1->langchain-openai) (1.2.2)\n",
      "Requirement already satisfied: certifi in /usr/local/lib/python3.10/dist-packages (from httpx<1,>=0.23.0->openai<2.0.0,>=1.58.1->langchain-openai) (2024.12.14)\n",
      "Requirement already satisfied: httpcore==1.* in /usr/local/lib/python3.10/dist-packages (from httpx<1,>=0.23.0->openai<2.0.0,>=1.58.1->langchain-openai) (1.0.7)\n",
      "Requirement already satisfied: h11<0.15,>=0.13 in /usr/local/lib/python3.10/dist-packages (from httpcore==1.*->httpx<1,>=0.23.0->openai<2.0.0,>=1.58.1->langchain-openai) (0.14.0)\n",
      "Requirement already satisfied: jsonpointer>=1.9 in /usr/local/lib/python3.10/dist-packages (from jsonpatch<2.0,>=1.33->langchain-core<0.4.0,>=0.3.29->langchain-openai) (3.0.0)\n",
      "Requirement already satisfied: orjson<4.0.0,>=3.9.14 in /usr/local/lib/python3.10/dist-packages (from langsmith<0.3,>=0.1.125->langchain-core<0.4.0,>=0.3.29->langchain-openai) (3.10.12)\n",
      "Requirement already satisfied: requests-toolbelt<2.0.0,>=1.0.0 in /usr/local/lib/python3.10/dist-packages (from langsmith<0.3,>=0.1.125->langchain-core<0.4.0,>=0.3.29->langchain-openai) (1.0.0)\n",
      "Requirement already satisfied: annotated-types>=0.6.0 in /usr/local/lib/python3.10/dist-packages (from pydantic<3.0.0,>=2.5.2->langchain-core<0.4.0,>=0.3.29->langchain-openai) (0.7.0)\n",
      "Requirement already satisfied: pydantic-core==2.27.1 in /usr/local/lib/python3.10/dist-packages (from pydantic<3.0.0,>=2.5.2->langchain-core<0.4.0,>=0.3.29->langchain-openai) (2.27.1)\n",
      "Requirement already satisfied: charset-normalizer<4,>=2 in /usr/local/lib/python3.10/dist-packages (from requests>=2.26.0->tiktoken<1,>=0.7->langchain-openai) (3.4.0)\n",
      "Requirement already satisfied: urllib3<3,>=1.21.1 in /usr/local/lib/python3.10/dist-packages (from requests>=2.26.0->tiktoken<1,>=0.7->langchain-openai) (2.2.3)\n",
      "Downloading langchain_openai-0.3.0-py3-none-any.whl (54 kB)\n",
      "\u001b[2K   \u001b[90m━━━━━━━━━━━━━━━━━━━━━━━━━━━━━━━━━━━━━━━━\u001b[0m \u001b[32m54.2/54.2 kB\u001b[0m \u001b[31m3.2 MB/s\u001b[0m eta \u001b[36m0:00:00\u001b[0m\n",
      "\u001b[?25hDownloading openai-1.59.8-py3-none-any.whl (455 kB)\n",
      "\u001b[2K   \u001b[90m━━━━━━━━━━━━━━━━━━━━━━━━━━━━━━━━━━━━━━━━\u001b[0m \u001b[32m455.6/455.6 kB\u001b[0m \u001b[31m19.3 MB/s\u001b[0m eta \u001b[36m0:00:00\u001b[0m\n",
      "\u001b[?25hDownloading tiktoken-0.8.0-cp310-cp310-manylinux_2_17_x86_64.manylinux2014_x86_64.whl (1.2 MB)\n",
      "\u001b[2K   \u001b[90m━━━━━━━━━━━━━━━━━━━━━━━━━━━━━━━━━━━━━━━━\u001b[0m \u001b[32m1.2/1.2 MB\u001b[0m \u001b[31m49.8 MB/s\u001b[0m eta \u001b[36m0:00:00\u001b[0m\n",
      "\u001b[?25hInstalling collected packages: tiktoken, openai, langchain-openai\n",
      "  Attempting uninstall: openai\n",
      "    Found existing installation: openai 1.57.4\n",
      "    Uninstalling openai-1.57.4:\n",
      "      Successfully uninstalled openai-1.57.4\n",
      "Successfully installed langchain-openai-0.3.0 openai-1.59.8 tiktoken-0.8.0\n"
     ]
    }
   ],
   "source": [
    "!pip install langchain-openai"
   ]
  },
  {
   "cell_type": "code",
   "execution_count": null,
   "metadata": {
    "id": "uv_B5Wdk_JAS"
   },
   "outputs": [],
   "source": [
    "!pip install -qU langchain-text-splitters"
   ]
  },
  {
   "cell_type": "code",
   "execution_count": null,
   "metadata": {
    "id": "P1rowYVU9t9D"
   },
   "outputs": [],
   "source": [
    "import jieba\n",
    "from langchain_community.document_loaders.csv_loader import CSVLoader\n",
    "from langchain.vectorstores import FAISS\n",
    "from langchain.document_loaders import TextLoader\n",
    "from langchain_openai import ChatOpenAI, OpenAIEmbeddings\n",
    "from langchain_text_splitters import CharacterTextSplitter\n",
    "from langchain_community.retrievers import BM25Retriever\n",
    "from typing import List"
   ]
  },
  {
   "cell_type": "code",
   "execution_count": null,
   "metadata": {
    "id": "jTVjTJmx-Wo5"
   },
   "outputs": [],
   "source": [
    "loader = CSVLoader('law_data_3k.csv')\n",
    "documents = loader.load()\n",
    "text_splitter = CharacterTextSplitter(\n",
    "    separator=\"\\n\",\n",
    "    chunk_size=1000,\n",
    "    chunk_overlap=200,\n",
    "    length_function=len,\n",
    "    is_separator_regex=False,\n",
    ")\n",
    "docs = text_splitter.split_documents(documents)"
   ]
  },
  {
   "cell_type": "code",
   "execution_count": null,
   "metadata": {
    "colab": {
     "base_uri": "https://localhost:8080/"
    },
    "executionInfo": {
     "elapsed": 348,
     "status": "ok",
     "timestamp": 1737032892494,
     "user": {
      "displayName": "YuXing Wu",
      "userId": "06505796107505570616"
     },
     "user_tz": -480
    },
    "id": "vhgh6P3uPrCg",
    "outputId": "4d496d02-4ea8-45c6-d2db-2ce9b8be461c"
   },
   "outputs": [
    {
     "data": {
      "text/plain": [
       "Document(metadata={'source': 'law_data_3k.csv', 'row': 0}, page_content='data: 民法商法-农民专业合作社法2017-12-27：第十五条 农民专业合作社章程应当载明下列事项：,（一）名称和住所；,（二）业务范围；,（三）成员资格及入社、退社和除名；,（四）成员的权利和义务；,（五）组织机构及其产生办法、职权、任期、议事规则；,（六）成员的出资方式、出资额，成员出资的转让、继承、担保；,（七）财务管理和盈余分配、亏损处理；,（八）章程修改程序；,（九）解散事由和清算办法；,（十）公告事项及发布方式；,（十一）附加表决权的设立、行使方式和行使范围；,（十二）需要载明的其他事项。')"
      ]
     },
     "execution_count": 11,
     "metadata": {},
     "output_type": "execute_result"
    }
   ],
   "source": [
    "docs[0]"
   ]
  },
  {
   "cell_type": "code",
   "execution_count": null,
   "metadata": {
    "colab": {
     "base_uri": "https://localhost:8080/"
    },
    "executionInfo": {
     "elapsed": 368,
     "status": "ok",
     "timestamp": 1737032996694,
     "user": {
      "displayName": "YuXing Wu",
      "userId": "06505796107505570616"
     },
     "user_tz": -480
    },
    "id": "mp52XfU1wN_G",
    "outputId": "c2b03dcd-fe8b-4f42-e778-9828066af489"
   },
   "outputs": [
    {
     "data": {
      "text/plain": [
       "OpenAIEmbeddings(client=<openai.resources.embeddings.Embeddings object at 0x7e7194e9eaa0>, async_client=<openai.resources.embeddings.AsyncEmbeddings object at 0x7e7194056ec0>, model='text-embedding-ada-002', dimensions=None, deployment='text-embedding-ada-002', openai_api_version=None, openai_api_base=None, openai_api_type=None, openai_proxy=None, embedding_ctx_length=8191, openai_api_key=SecretStr('**********'), openai_organization=None, allowed_special=None, disallowed_special=None, chunk_size=1000, max_retries=2, request_timeout=None, headers=None, tiktoken_enabled=True, tiktoken_model_name=None, show_progress_bar=False, model_kwargs={}, skip_empty=False, default_headers=None, default_query=None, retry_min_seconds=4, retry_max_seconds=20, http_client=None, http_async_client=None, check_embedding_ctx_length=True)"
      ]
     },
     "execution_count": 12,
     "metadata": {},
     "output_type": "execute_result"
    }
   ],
   "source": [
    "OpenAIEmbeddings()"
   ]
  },
  {
   "cell_type": "code",
   "execution_count": null,
   "metadata": {
    "colab": {
     "base_uri": "https://localhost:8080/"
    },
    "executionInfo": {
     "elapsed": 7934,
     "status": "ok",
     "timestamp": 1737033005901,
     "user": {
      "displayName": "YuXing Wu",
      "userId": "06505796107505570616"
     },
     "user_tz": -480
    },
    "id": "-7S8iB_7zE9k",
    "outputId": "a193887e-79f3-445c-cb4c-f57f42abdf13"
   },
   "outputs": [
    {
     "name": "stdout",
     "output_type": "stream",
     "text": [
      "Collecting faiss-gpu\n",
      "  Downloading faiss_gpu-1.7.2-cp310-cp310-manylinux_2_17_x86_64.manylinux2014_x86_64.whl.metadata (1.4 kB)\n",
      "Downloading faiss_gpu-1.7.2-cp310-cp310-manylinux_2_17_x86_64.manylinux2014_x86_64.whl (85.5 MB)\n",
      "\u001b[2K   \u001b[90m━━━━━━━━━━━━━━━━━━━━━━━━━━━━━━━━━━━━━━━━\u001b[0m \u001b[32m85.5/85.5 MB\u001b[0m \u001b[31m8.5 MB/s\u001b[0m eta \u001b[36m0:00:00\u001b[0m\n",
      "\u001b[?25hInstalling collected packages: faiss-gpu\n",
      "Successfully installed faiss-gpu-1.7.2\n"
     ]
    }
   ],
   "source": [
    "!pip install faiss-gpu"
   ]
  },
  {
   "cell_type": "code",
   "execution_count": null,
   "metadata": {
    "id": "qMtNezQ7bl1S"
   },
   "outputs": [],
   "source": [
    "vectorstore = FAISS.from_documents(docs, embedding=OpenAIEmbeddings())\n",
    "retriever = vectorstore.as_retriever(search_type=\"mmr\")"
   ]
  },
  {
   "cell_type": "code",
   "execution_count": null,
   "metadata": {
    "colab": {
     "base_uri": "https://localhost:8080/"
    },
    "executionInfo": {
     "elapsed": 1173,
     "status": "ok",
     "timestamp": 1737046615202,
     "user": {
      "displayName": "YuXing Wu",
      "userId": "06505796107505570616"
     },
     "user_tz": -480
    },
    "id": "GDWUJToMza_D",
    "outputId": "9b63f8ff-fbac-4d45-e344-1b6cbff4eeb9"
   },
   "outputs": [
    {
     "data": {
      "text/plain": [
       "[Document(id='2d4551a0-6e8c-4dfd-8da9-72923872e4b7', metadata={'source': 'law_data_3k.csv', 'row': 1234}, page_content='data: 他的家人是否有义务替他还高利贷\\n当然没有义务了，除非家人继承了她的遗产，那么这部分遗产首先要用来还欠款。'),\n",
       " Document(id='90c3bf2f-5787-467a-8a01-0aa3ac766f28', metadata={'source': 'law_data_3k.csv', 'row': 1148}, page_content='data: 公证处公证，老人去世后这份遗嘱是否有效\\n老人生前留下遗嘱没有公证老人去世后遗嘱能在法律上生效。《中华人民共和国继承法》第十六条公民可以依照本法规定立遗嘱处分个人财产，并可以指定遗嘱执行人。公民可以立遗嘱将个人财产指定由法定继承人的一人或者数人继承。公民可以立遗嘱将个人财产赠给国家、集体或者法定继承人以外的人。'),\n",
       " Document(id='3614d4b0-06f6-4c8b-aaf7-511a1811469d', metadata={'source': 'law_data_3k.csv', 'row': 674}, page_content='data: 借款人到期一直不还钱，可否另行要求精神赔偿\\n一般不能请求精神赔偿，除非你能证明不还钱给你带来了极大的精神痛苦当遇到欠钱不还的情况，作为债权人首先不要着急，而是应该马上找到律师询问，然后搜集证据，最后上诉法*。如果他们还敢不执行法*判决，即使是被判坐牢也要还清，而不是一厢情愿的认为坐牢抵债。拒不执行判决会有什么后果？根据《刑法》第三百一十三条规定：对人*法*的判决、裁定有能力执行而拒不执行，情节严重的，处三年以下有期徒刑、拘役或者罚金；情节特别严重的，处三年以上七年以下有期徒刑，并处罚金。单位犯前款罪的，对单位判处罚金，并对其直接负责的主管人员和其他直接责任人员，依照前款的规定处罚。下列情形属于“有能力执行而拒不执行，情节严重”的情形：被执行人隐藏、转移、故意毁损财产或者无偿转让财产、以明显不合理的低价转让财产，致使判决、裁定无法执行的；担保人或者被执行人隐藏、转移、故意毁损或者转让已向人*法*提供担保的财产，致使判决、裁定无法执行的；协助执行义务人接到人*法*协助执行通知书后，拒不协助执行，致使判决、裁定无法执行的；被执行人、担保人、协助执行义务人与国家机关工作人员通谋，利用国家机关工作人员的职权妨害执行，致使判决、裁定无法执行的；其他有能力执行而拒不执行，情节严重的情形。'),\n",
       " Document(id='e8a2cf40-89ab-451b-8bd1-a187a5460568', metadata={'source': 'law_data_3k.csv', 'row': 605}, page_content='data: 弟弟死亡哥哥可以继承他的房屋吗？如果政府要拆除有没有补偿\\n由其第一顺位继承人继承的，如果没有第一顺位继承人的话你才可以继承，第一顺位继承人是指父母子女配偶')]"
      ]
     },
     "execution_count": 28,
     "metadata": {},
     "output_type": "execute_result"
    }
   ],
   "source": [
    "retriever.invoke(\"借款人去世， 继承人是否应履行偿还义务？\")"
   ]
  },
  {
   "cell_type": "code",
   "execution_count": null,
   "metadata": {
    "colab": {
     "base_uri": "https://localhost:8080/"
    },
    "executionInfo": {
     "elapsed": 1162,
     "status": "ok",
     "timestamp": 1737046635156,
     "user": {
      "displayName": "YuXing Wu",
      "userId": "06505796107505570616"
     },
     "user_tz": -480
    },
    "id": "x0mCeN2F48Jr",
    "outputId": "09e3993b-f063-435e-f848-3e191730f3db"
   },
   "outputs": [
    {
     "data": {
      "text/plain": [
       "[Document(id='d403f898-3bae-48ad-8969-56882e5a644d', metadata={'source': 'law_data_3k.csv', 'row': 931}, page_content='data: 公职人员放高利贷和从事营利性活动应受到法律怎样处理\\n民间借贷属于民事行为，受到民法和合同法的约束和保护。但根据《合同法》第二百一十一条规定：“自然人之间的借款合同约定支付利息的，借款的利率不得违反国家有关限制借款利率的规定”。依据《最高人民法院关于审理民间借贷案件适用法律若干问题的规定》，借贷双方约定的利率未超过年利率24%，出借人有权请求借款人按照约定的利率支付利息；但如果借贷双方约定的利率超过年利率36%，则超过年利率36%部分的利息应当被认定无效。《最高人民法院关于审理民间借贷案件适用法律若干问题的规定》第二十六条借贷双方约定的利率未超过年利率24%，出借人请求借款人按照约定的利率支付利息的，人民法院应予支持。借贷双方约定的利率超过年利率36%，超过部分的利息约定无效。借款人请求出借人返还已支付的超过年利率36%部分的利息的，人民法院应予支持。'),\n",
       " Document(id='3e3160f0-92fc-4046-8aca-d64e4aad309c', metadata={'source': 'law_data_3k.csv', 'row': 659}, page_content='data: 高级人民法院民间借贷纠纷应该怎么处理\\n高院一般可能不会处理这种案件。这种民事案件顶多到中院就可以解决'),\n",
       " Document(id='f5af9431-0ab7-4eb6-b891-7a23ce9c18fe', metadata={'source': 'law_data_3k.csv', 'row': 609}, page_content='data: 小额借款合同纠纷怎么解决，我不还钱要坐牢吗\\n基本是属于民事纠纷的，不会涉及刑事责任，但是建议积极想办法偿还的，如果拒不偿还，对方是可以起诉解决的，在法院判决后，仍不执行的话，是可以申请强制执行的，同时还会影响个人征信等'),\n",
       " Document(id='d9adaa91-1546-4b2b-9997-6cf136b6b572', metadata={'source': 'law_data_3k.csv', 'row': 685}, page_content='data: 合利金上面的借款人要是不还钱怎么办？钱怎么拿回来？\\n合利金上面的借款人要是不还钱怎么办？钱怎么拿回来？有没有什么错误或者法律保护我们这些人？\\n当遇到欠钱不还的情况，作为债权人首先不要着急，而是应该马上找到律师询问，然后搜集证据，最后上诉法*。如果他们还敢不执行法*判决，即使是被判坐牢也要还清，而不是一厢情愿的认为坐牢抵债。拒不执行判决会有什么后果？根据《刑法》第三百一十三条规定：对人*法*的判决、裁定有能力执行而拒不执行，情节严重的，处三年以下有期徒刑、拘役或者罚金；情节特别严重的，处三年以上七年以下有期徒刑，并处罚金。单位犯前款罪的，对单位判处罚金，并对其直接负责的主管人员和其他直接责任人员，依照前款的规定处罚。下列情形属于“有能力执行而拒不执行，情节严重”的情形：被执行人隐藏、转移、故意毁损财产或者无偿转让财产、以明显不合理的低价转让财产，致使判决、裁定无法执行的；担保人或者被执行人隐藏、转移、故意毁损或者转让已向人*法*提供担保的财产，致使判决、裁定无法执行的；协助执行义务人接到人*法*协助执行通知书后，拒不协助执行，致使判决、裁定无法执行的；被执行人、担保人、协助执行义务人与国家机关工作人员通谋，利用国家机关工作人员的职权妨害执行，致使判决、裁定无法执行的；其他有能力执行而拒不执行，情节严重的情形。')]"
      ]
     },
     "execution_count": 29,
     "metadata": {},
     "output_type": "execute_result"
    }
   ],
   "source": [
    "retriever.invoke(\"如何通过法律手段应对民间借贷纠纷？\")"
   ]
  },
  {
   "cell_type": "code",
   "execution_count": null,
   "metadata": {
    "colab": {
     "base_uri": "https://localhost:8080/"
    },
    "executionInfo": {
     "elapsed": 540,
     "status": "ok",
     "timestamp": 1737046643849,
     "user": {
      "displayName": "YuXing Wu",
      "userId": "06505796107505570616"
     },
     "user_tz": -480
    },
    "id": "PdboH7Tl5I2c",
    "outputId": "d9d5bfdb-4738-439d-9cfd-f1c3f6c8d954"
   },
   "outputs": [
    {
     "data": {
      "text/plain": [
       "[Document(id='f84c8e1b-5f65-40cc-8c63-a2680cb0e603', metadata={'source': 'law_data_3k.csv', 'row': 637}, page_content='data: 可不可以放弃母亲的遗产也不赡养她,从小没有养过我，连看都没有看过我一次\\n可不可以放弃母亲的遗产也不赡养她,从小没有养过我，连看都没有看过我一次\\n继承开始后，继承人放弃继承的，应当在遗产处理前，作出放弃继承的表示。没有表示的，视为接受继承。子女有赡养父母的义务，不能通过协议方式排除赡养父母，以协议方式排除赡养义务，协议没有法律效力。另外，子女不履行赡养义务时，无劳动能力的或生活困难的父母，有要求子女付给赡养费的权利。相关法律规定：《中华人民共和国婚姻法》第二十一条父母对子女有抚养教育的义务；子女对父母有赡养扶助的义务。父母不履行抚养义务时，未成年的或不能独立生活的子女，有要求父母付给抚养费的权利。子女不履行赡养义务时，无劳动能力的或生活困难的父母，有要求子女付给赡养费的权利'),\n",
       " Document(id='9d24578f-1dc8-49d5-8ded-5013341c9e55', metadata={'source': 'law_data_3k.csv', 'row': 596}, page_content='data: 民法典-继承编：第一千一百六十条 无人继承又无人受遗赠的遗产，归国家所有，用于公益事业；死者生前是集体所有制组织成员的，归所在集体所有制组织所有。'),\n",
       " Document(id='e8a2cf40-89ab-451b-8bd1-a187a5460568', metadata={'source': 'law_data_3k.csv', 'row': 605}, page_content='data: 弟弟死亡哥哥可以继承他的房屋吗？如果政府要拆除有没有补偿\\n由其第一顺位继承人继承的，如果没有第一顺位继承人的话你才可以继承，第一顺位继承人是指父母子女配偶'),\n",
       " Document(id='818344a6-c5ec-42d3-8c45-884abf8695fc', metadata={'source': 'law_data_3k.csv', 'row': 240}, page_content='data: 社会法-老年人权益保障法2018-12-29：第二十二条 老年人对个人的财产，依法享有占有、使用、收益和处分的权利，子女或者其他亲属不得干涉，不得以窃取、骗取、强行索取等方式侵犯老年人的财产权益。,老年人有依法继承父母、配偶、子女或者其他亲属遗产的权利，有接受赠与的权利。子女或者其他亲属不得侵占、抢夺、转移、隐匿或者损毁应当由老年人继承或者接受赠与的财产。,老年人以遗嘱处分财产，应当依法为老年配偶保留必要的份额。')]"
      ]
     },
     "execution_count": 30,
     "metadata": {},
     "output_type": "execute_result"
    }
   ],
   "source": [
    "retriever.invoke(\"没有赡养老人就无法继承财产吗？\")"
   ]
  },
  {
   "cell_type": "code",
   "execution_count": null,
   "metadata": {
    "colab": {
     "base_uri": "https://localhost:8080/"
    },
    "executionInfo": {
     "elapsed": 741,
     "status": "ok",
     "timestamp": 1737046648560,
     "user": {
      "displayName": "YuXing Wu",
      "userId": "06505796107505570616"
     },
     "user_tz": -480
    },
    "id": "4zuUuAWb5W61",
    "outputId": "0edb07f1-3f5e-4397-917c-04e203e33f4f"
   },
   "outputs": [
    {
     "data": {
      "text/plain": [
       "[Document(id='f610ec67-0275-4956-8974-0627d97cc62d', metadata={'source': 'law_data_3k.csv', 'row': 501}, page_content='data: 民法典-总则：第三十六条 监护人有下列情形之一的，人民法院根据有关个人或者组织的申请，撤销其监护人资格，安排必要的临时监护措施，并按照最有利于被监护人的原则依法指定监护人：,（一）实施严重损害被监护人身心健康的行为；,（二）怠于履行监护职责，或者无法履行监护职责且拒绝将监护职责部分或者全部委托给他人，导致被监护人处于危困状态；,（三）实施严重侵害被监护人合法权益的其他行为。,本条规定的有关个人、组织包括：其他依法具有监护资格的人，居民委员会、村民委员会、学校、医疗机构、妇女联合会、残疾人联合会、未成年人保护组织、依法设立的老年人组织、民政部门等。,前款规定的个人和民政部门以外的组织未及时向人民法院申请撤销监护人资格的，民政部门应当向人民法院申请。'),\n",
       " Document(id='1d28237f-ea4a-4f14-87c5-c66a01e32ceb', metadata={'source': 'law_data_3k.csv', 'row': 287}, page_content='data: 公安部-机动车登记规定2021-12-17：第八十六条 机动车所有人可以委托代理人代理申请各项机动车登记和业务，但共同所有人变更、申请补领机动车登记证书、机动车灭失注销的除外；对机动车所有人因死亡、出境、重病、伤残或者不可抗力等原因不能到场的，可以凭相关证明委托代理人代理申请，或者由继承人申请。,代理人申请机动车登记和业务时，应当提交代理人的身份证明和机动车所有人的委托书。'),\n",
       " Document(id='8b8f2d2d-0041-447a-9c4c-b5e2f86e7e94', metadata={'source': 'law_data_3k.csv', 'row': 378}, page_content='data: 市场监督管理总局-互联网药品信息服务管理办法2004-07-08：第二十六条 省、自治区、直辖市食品药品监督管理部门违法对互联网药品信息服务申请作出审核批准的，原发证机关应当撤销原批准的《互联网药品信息服务资格证书》，由此给申请人的合法权益造成损害的，由原发证机关依照国家赔偿法的规定给予赔偿；对直接负责的主管人员和其他直接责任人员，由其所在单位或者上级机关依法给予行政处分。'),\n",
       " Document(id='7dfbb164-5168-45ae-ba8b-ec7f3581c49b', metadata={'source': 'law_data_3k.csv', 'row': 290}, page_content='data: 公安部-公安机关办理刑事案件程序规定2020-07-20：第四十四条 犯罪嫌疑人可以自己委托辩护律师。犯罪嫌疑人在押的，也可以由其监护人、近亲属代为委托辩护律师。,犯罪嫌疑人委托辩护律师的请求可以书面提出，也可以口头提出。口头提出的，公安机关应当制作笔录，由犯罪嫌疑人签名、捺指印。')]"
      ]
     },
     "execution_count": 31,
     "metadata": {},
     "output_type": "execute_result"
    }
   ],
   "source": [
    "retriever.invoke(\"谁可以申请撤销监护人的监护资格？\")"
   ]
  },
  {
   "cell_type": "code",
   "execution_count": null,
   "metadata": {
    "colab": {
     "base_uri": "https://localhost:8080/"
    },
    "executionInfo": {
     "elapsed": 690,
     "status": "ok",
     "timestamp": 1737046658462,
     "user": {
      "displayName": "YuXing Wu",
      "userId": "06505796107505570616"
     },
     "user_tz": -480
    },
    "id": "sTjK3y8t5b9-",
    "outputId": "3e1db7f0-393b-42a0-f895-ea06915a663b"
   },
   "outputs": [
    {
     "data": {
      "text/plain": [
       "[Document(id='a0476a9f-156a-4df3-bd37-60993d1e29be', metadata={'source': 'law_data_3k.csv', 'row': 1276}, page_content='data: 入室盗窃后敲诈勒索1####元会判刑多久\\n表述有问题，不能准确判断，如果只成立盗窃一罪，那么：（一）个人盗窃公私财物“数额较大”，以一千至三千元为起点。处三年以下有期徒刑、拘役或者管制，并处或者单处罚金[3]（二）个人盗窃公私财物“数额巨大”，以三万元至十万元为起点。处三年以上十年以下有期徒刑，并处罚金（三）个人盗窃公私财物“数额特别巨大”，以三十万元至五十万元为起点。处十年以上有期徒刑或者无期徒刑，并处罚金或者没收财产。各省、自治区、直辖市*级人*法*、人*检**，可以根据该地区经济发展状况，并考虑社会治安状况，参照上列数额，确定该地区执行的数额标准，并报最*人*法*、最*人*检**备案。具体要看你所在地区。'),\n",
       " Document(id='b63e6cbd-5c76-4fce-abbe-c88eadfbdce3', metadata={'source': 'law_data_3k.csv', 'row': 1241}, page_content='data: 盗窃青律师可以辩护吗\\n尊敬的审判员：我叫###，是本案被告人###的辩护人。辩护人接受指派后依法多次会见了被告人###，详细地查阅了本案全部卷宗材料，对案情有了比较全面、客观的了解。辩护人结合今天的庭审情况，根据质证证据证明的事实与相关法律规定发表如下辩护意见，供法庭审理时参考：一、关于本案的事实，根据我国现行法律关于盗窃罪的规定，以及本案相关证据来看，被告人###已经涉嫌构成盗窃犯罪。同时，鉴于被告人已对所犯罪行供认不讳。因此，辩护人对公诉机关指控###犯盗窃罪无异议。二、辩护人认为本案被告人###具有如下法定和酌定的从轻或者减轻的情节，请合议庭在量刑时予以充分考虑。首先，被告人具有法定的从轻或减轻情节，应减轻处罚。在本案中，被告人XX具有自首情节，且已被公诉机关确认。按照我国刑法第六十七条第一款的规定：对于自首的犯罪嫌疑人，可以从轻或者减轻处罚。辩护人认为：对本案被告人应减轻处罚。其次，被告人具有酌定的从轻或减轻处罚情节。主要有如下：1、被告人具有悔罪表现，愿意痛改前非，重新做人。从被告人的供述中可以看出，被告人在案发后能够积极主动、全部、彻底地向司法机关交待自己的犯罪行为，说明被告人已经认识到自己犯罪行为的严重性，有改过自新、重新做人的真实愿望。在看守所羁押期间，被告人服从管理，能积极协助管理人员开展工作。从今天的庭审情况来看，被告人的诚恳交代、认罪伏法的态度也是有目共睹的。根据最高法、最高检和司法部颁布的《关于适用简易程序审理公诉案件的若干意见》第九条关于“人民法院对自愿认罪的被告人，酌情予以从轻处罚”之规定，辩护人认为：被告人的认罪态度完全符合相关法律规定，恳请法院在对被告人量刑时予以充分考虑。2、被告人的主观恶性不大，且有客观原因尤其赃物直接使用于工作的特性，量刑时应与一般盗窃案有所从轻处罚的区别。3、本案被告人的犯罪行为没有造成严重的社会后果。综上，辩护人认为：被告人构成犯罪，但其主观恶性不大，具有自首情节，确有悔改行为，具备刑法关于缓刑的条件。因此，对被告人应减轻处罚，并建议宣告缓刑，给被告人一个改过自新、重新做人的机会。此致###人民法院辩护人：######X年XX月XX日'),\n",
       " Document(id='bcb9e128-2b65-4350-aa24-50f8155d43e6', metadata={'source': 'law_data_3k.csv', 'row': 660}, page_content='data: 上*市***法律问题咨询相关人士；2018年1月28日《盗窃罪》杜*与杨*关押**看*所。\\n上*****法律问题咨询相关人士；2018年1月28日《盗窃罪》杜*与杨*关押**看*所。杜*今年45左右，初犯，安*人，经商自主创业；杨*今年48左右，有前科，上*人，卜*莲*超*保安；事情经过：杨*与杜*相交多年，之间杨*曾借杜*1500元钱，杜*...\\n人*法*、人*检**和公安机关对有下列情形之一的犯罪嫌疑人、被告人，可以取保候审：（一）可能判处管制、拘役或者独立适用附加刑的；（二）可能判处有期徒刑以上刑罚，采取取保候审不致发生社会危险性的；（三）患有严重疾病、生活不能自理，怀孕或者正在哺乳自己婴儿的妇女，采取取保候审不致发生社会危险性的；（四）羁押期限届满，案件尚未办结，需要采取取保候审的。对累犯，犯罪集团的主犯，以自伤、自残办法逃避侦查的犯罪嫌疑人，严重暴力犯罪以及其他严重犯罪的犯罪嫌疑人不得取保候审，但犯罪嫌疑人具有上述第三项、第四项规定情形的除外。【多次做主、自伤自残、严重暴力】期限为12个月，三机关各有12个月~'),\n",
       " Document(id='a9dc7bf8-e9e3-44fc-b1f7-c606f6f02259', metadata={'source': 'law_data_3k.csv', 'row': 1177}, page_content='data: 有人入室盗窃未遂，家里无现金，属于刑事案件吗\\n对某些具有小偷小摸行为的、因受灾生活困难偶尔偷窃财物的、或者被胁迫参加盗窃活动没有分赃或分赃甚微的，可不作盗窃罪处理，必要时，可由主管机关予以适当处罚。把偷窃自己家属或近亲属财物的行为与社会上的盗窃犯罪行为加以区别。《解释》规定，对此类案件，一般可不按犯罪处理；对确有追究刑事责任必要的，在处理时也应同社会上作案的有所区别。根据《解释》的规定，盗窃公私财物虽已达到“数额较大”的起点，但情节轻微，并具有下列情形之一的，可不作为犯罪处。1、已满16周岁不满十八周岁的未成年人作案的2、全部退赃、退赔的；3、主动投案的4、被胁迫参加盗窃活动，没有分赃或者获赃较少的；5、其他情节轻微、危害不大的。')]"
      ]
     },
     "execution_count": 32,
     "metadata": {},
     "output_type": "execute_result"
    }
   ],
   "source": [
    "retriever.invoke(\"你现在是一个精通中国法律的法官， 请对以下案件做出分析： 经审理查明： 被告人 xxx 于 2017 年 12 月， 多次在本市 xxx 盗窃财物。 具体事实如下： （一） 2017 年 12 月 9 日 15 时许， 被告人 xxx 在 xxx 店内， 盗窃白色毛衣一件（价值人民币 259 元） 。 现赃物已起获并发还。 （二） 2017 年 12 月 9 日 16 时许， 被告人 xx 在本市 xxx 店内， 盗窃米白色大衣一件（价值人民币 1199 元）。现赃物已起获并发还。 （三） 2017 年 12月 11 日 19 时许， 被告人 xxx 在本市 xxx 内， 盗窃耳机、 手套、 化妆镜等商品共八件（共计价值人民币 357.3 元） 。 现赃物已起获并发还。（四）2017 年 12 月 11 日 20 时许， 被告人 xx 在本市 xxxx 内， 盗窃橙汁、 牛肉干等商品共四件（共计价值人民币 58.39 元） 。 现赃物已起获并发还。2017 年 12 月 11 日， 被告人 xx 被公安机关抓获， 其到案后如实供述了上述犯罪事实。 经鉴定， 被告人 xxx 被诊断为精神分裂症， 限制刑事责任能力， 有受审能力。\")"
   ]
  },
  {
   "cell_type": "code",
   "execution_count": null,
   "metadata": {
    "colab": {
     "base_uri": "https://localhost:8080/"
    },
    "executionInfo": {
     "elapsed": 712,
     "status": "ok",
     "timestamp": 1737046700652,
     "user": {
      "displayName": "YuXing Wu",
      "userId": "06505796107505570616"
     },
     "user_tz": -480
    },
    "id": "tZrop78p6Cog",
    "outputId": "54a66556-1ee2-4fa4-bc3b-f579b2475567"
   },
   "outputs": [
    {
     "data": {
      "text/plain": [
       "[Document(id='f29f0dba-29fb-4210-a4c6-a9c815f834d2', metadata={'source': 'law_data_3k.csv', 'row': 74}, page_content='data: 民法商法-消费者权益保护法2013-10-25：第五十五条 经营者提供商品或者服务有欺诈行为的，应当按照消费者的要求增加赔偿其受到的损失，增加赔偿的金额为消费者购买商品的价款或者接受服务的费用的三倍；增加赔偿的金额不足五百元的，为五百元。法律另有规定的，依照其规定。,经营者明知商品或者服务存在缺陷，仍然向消费者提供，造成消费者或者其他受害人死亡或者健康严重损害的，受害人有权要求经营者依照本法第四十九条、第五十一条等法律规定赔偿损失，并有权要求所受损失二倍以下的惩罚性赔偿。'),\n",
       " Document(id='3bc48820-2b11-4f34-b7d3-45647ead7c2c', metadata={'source': 'law_data_3k.csv', 'row': 1279}, page_content='data: 盗窃罪金额达1####请律师打官司要多少钱\\n刑事案件请一个律师大概需要多少钱?具体要看律师事务所的收费，如：(一)刑事案件收费按照各办案阶段分别计件确定收费标准。1、侦查阶段，每件收费2###—1####元。2、审查起诉阶段，每件收费2###—1####元。3、一审阶段，每件收费4###—3####元。4、上述收费标准下浮不限。(二)二审、死刑复核、再审、申诉案件以及刑事自诉案件按照一审阶段的收费标准收取律师服务费。(三)一个律师事务所代理一个案件的多个阶段，自第二阶段起酌减收费。(四)被害人提起刑事附带民事诉讼案件的，按照民事诉讼案件收费标准收取律师服务费。(五)犯罪嫌疑人、被告人同时涉及几个罪名或者数起犯罪事实的，可按照所涉罪名或犯罪事实分别计件收取。'),\n",
       " Document(id='cf19b73f-391d-436c-ba41-8e27e2e82354', metadata={'source': 'law_data_3k.csv', 'row': 790}, page_content='data: 我在玖富超能分期了一个手机原价2900多，还17期总共3993，现在微信不能还了，我不还会怎样\\n1、无力偿还会面临法院后果的，建议及债权人积极协商，争取延迟还款。债权人也会起诉你，然后申请执行你的财产的。2、有能力而拒不执行的情况下，涉嫌拒不执行判决、裁定罪《刑法》第三百一十三条【拒不执行判决、裁定罪】对人民法院的判决、裁定有能力执行而拒不执行，情节严重的，处三年以下有期徒刑、拘役或者刑罚。3、另外名下没有可供执行的财产而他又拒绝履行法院的生效判决，则会有逾期还款等负面信息记录在个人的信用报告中并被限制高消费及出入境，甚至有可能会被司法拘留。'),\n",
       " Document(id='218541df-c208-41bb-9df1-060541508d21', metadata={'source': 'law_data_3k.csv', 'row': 1029}, page_content='data: 起诉老赖该怎么样写起诉书\\n追讨欠款起诉书范*原告：###(姓名)，###(性别)，###x年xx月xx日，汉族，*化程度###x，工作单位###x，职位###x，住址：###############x被告：###(姓名)，###(性别)，###x(姓名)，###x年xx月xx日，汉族，*化程度###x，工作单位###x，职位###x，住址：###############x请求事项：1、判决被告偿还欠款###元及利息###元。2、判决被告承担本案全部诉讼费用。事实和理由：200*年*月*日，债务人***从原告处借走人民币x万元，并当场向原告写下欠条一份。然而，到还款日期后，被告以各种理由和借口迟迟不肯偿还债务，其行为严重损害了原告的合法权益。现诉请法院判决被告###偿还原告###人民币x万元，并支付利息，以维护原告合法权益。此致###x人民法院原告：######x年x月xx日附：一、本诉状副本x份(按被告人数确定份数);')]"
      ]
     },
     "execution_count": 34,
     "metadata": {},
     "output_type": "execute_result"
    }
   ],
   "source": [
    "retriever.invoke(\"你现在是一个精通中国法律的法官， 请对以下案件做出分析：2012年5月1日，原告xxx在被告xxxx购买“玉兔牌”香肠15包，其中价值558.6元的14包香肠已过保质期。xxx到收银台结账后，即径直到服务台索赔，后因协商未果诉至法院，要求xxxx店支付14包香肠售价十倍的赔偿金5586元。\")"
   ]
  },
  {
   "cell_type": "code",
   "execution_count": null,
   "metadata": {
    "id": "7ogDy-mX0B-4"
   },
   "outputs": [],
   "source": [
    "from langchain_core.output_parsers import StrOutputParser\n",
    "from langchain_core.prompts import ChatPromptTemplate\n",
    "from langchain_core.runnables import RunnablePassthrough"
   ]
  },
  {
   "cell_type": "code",
   "execution_count": null,
   "metadata": {
    "id": "wid4y0bD0Zh8"
   },
   "outputs": [],
   "source": [
    "template = \"\"\"You are an assistant for question-answering tasks. Use the following pieces of retrieved context to answer the question. If you don't know the answer, just say that you don't know. Use three sentences maximum and keep the answer concise\n",
    "Context:  {context}\n",
    "\n",
    "Question: {question}\n",
    "\"\"\"\n",
    "prompt = ChatPromptTemplate.from_template(template=template)\n",
    "\n",
    "rag_chain = (\n",
    "    {\"context\": retriever, \"question\": RunnablePassthrough()}\n",
    "    | prompt\n",
    "    | ChatOpenAI()\n",
    "    | StrOutputParser()\n",
    ")"
   ]
  },
  {
   "cell_type": "code",
   "execution_count": null,
   "metadata": {
    "colab": {
     "base_uri": "https://localhost:8080/",
     "height": 52
    },
    "executionInfo": {
     "elapsed": 2061,
     "status": "ok",
     "timestamp": 1737054877836,
     "user": {
      "displayName": "YuXing Wu",
      "userId": "06505796107505570616"
     },
     "user_tz": -480
    },
    "id": "qY12umIv1ASD",
    "outputId": "99ea4a12-092a-439d-ace6-9f9929256404"
   },
   "outputs": [
    {
     "data": {
      "application/vnd.google.colaboratory.intrinsic+json": {
       "type": "string"
      },
      "text/plain": [
       "'继承人应当履行借款人的偿还债务义务。根据民法典-继承编，如果遗嘱继承或者遗赠附有义务，继承人或者受遗赠人应当履行这些义务。在被保险人去世后，保险金作为被保险人的遗产，保险人有义务按照继承法规定给付保险金。'"
      ]
     },
     "execution_count": 112,
     "metadata": {},
     "output_type": "execute_result"
    }
   ],
   "source": [
    "rag_chain.invoke(\"借款人去世， 继承人是否应履行偿还义务？\")"
   ]
  },
  {
   "cell_type": "code",
   "execution_count": null,
   "metadata": {
    "colab": {
     "base_uri": "https://localhost:8080/",
     "height": 52
    },
    "executionInfo": {
     "elapsed": 3052,
     "status": "ok",
     "timestamp": 1737054885093,
     "user": {
      "displayName": "YuXing Wu",
      "userId": "06505796107505570616"
     },
     "user_tz": -480
    },
    "id": "v981ti781j3s",
    "outputId": "28f44b80-dbdd-4e09-ba22-14fd9509d81d"
   },
   "outputs": [
    {
     "data": {
      "application/vnd.google.colaboratory.intrinsic+json": {
       "type": "string"
      },
      "text/plain": [
       "'根据最高人民法院相关规定，民间借贷属于民事行为，受到民法和合同法的约束和保护。如果借贷双方约定的利率未超过年利率24%，出借人有权请求借款人按照约定的利率支付利息。超过年利率36%部分的利息则应当被认定无效。'"
      ]
     },
     "execution_count": 113,
     "metadata": {},
     "output_type": "execute_result"
    }
   ],
   "source": [
    "rag_chain.invoke(\"如何通过法律手段应对民间借贷纠纷？\")"
   ]
  },
  {
   "cell_type": "code",
   "execution_count": null,
   "metadata": {
    "colab": {
     "base_uri": "https://localhost:8080/",
     "height": 35
    },
    "executionInfo": {
     "elapsed": 1586,
     "status": "ok",
     "timestamp": 1737054891210,
     "user": {
      "displayName": "YuXing Wu",
      "userId": "06505796107505570616"
     },
     "user_tz": -480
    },
    "id": "yHCFTmzk2pmM",
    "outputId": "9e97fbef-3812-460d-c4c1-979141b29d4b"
   },
   "outputs": [
    {
     "data": {
      "application/vnd.google.colaboratory.intrinsic+json": {
       "type": "string"
      },
      "text/plain": [
       "'没有，根据相关法律规定，子女有赡养父母的义务，但不履行赡养义务不会影响对遗产的继承权。赡养义务和继承权是两个独立的法律概念。'"
      ]
     },
     "execution_count": 114,
     "metadata": {},
     "output_type": "execute_result"
    }
   ],
   "source": [
    "rag_chain.invoke(\"没有赡养老人就无法继承财产吗？\")"
   ]
  },
  {
   "cell_type": "code",
   "execution_count": null,
   "metadata": {
    "colab": {
     "base_uri": "https://localhost:8080/",
     "height": 35
    },
    "executionInfo": {
     "elapsed": 1974,
     "status": "ok",
     "timestamp": 1737054896599,
     "user": {
      "displayName": "YuXing Wu",
      "userId": "06505796107505570616"
     },
     "user_tz": -480
    },
    "id": "Tc7Yo1YM3Mw7",
    "outputId": "065451ce-cf7d-490d-f1d2-a3d5dd227305"
   },
   "outputs": [
    {
     "data": {
      "application/vnd.google.colaboratory.intrinsic+json": {
       "type": "string"
      },
      "text/plain": [
       "'其他依法具有监护资格的人，居民委员会、村民委员会、学校、医疗机构、妇女联合会、残疾人联合会、未成年人保护组织、依法设立的老年人组织、民政部门等可以申请撤销监护人的监护资格。'"
      ]
     },
     "execution_count": 115,
     "metadata": {},
     "output_type": "execute_result"
    }
   ],
   "source": [
    "rag_chain.invoke(\"谁可以申请撤销监护人的监护资格？\")"
   ]
  },
  {
   "cell_type": "code",
   "execution_count": null,
   "metadata": {
    "colab": {
     "base_uri": "https://localhost:8080/",
     "height": 35
    },
    "executionInfo": {
     "elapsed": 1902,
     "status": "ok",
     "timestamp": 1737054921587,
     "user": {
      "displayName": "YuXing Wu",
      "userId": "06505796107505570616"
     },
     "user_tz": -480
    },
    "id": "iRupwjxC3jL0",
    "outputId": "47a65d8b-3757-4c9c-b7a9-ccc7a55bdd0f"
   },
   "outputs": [
    {
     "data": {
      "application/vnd.google.colaboratory.intrinsic+json": {
       "type": "string"
      },
      "text/plain": [
       "'根据上述法律规定，被告人xxx的行为构成多次盗窃罪。根据具体案情和被告人的精神分裂症诊断，可能会考虑其限制刑事责任能力。具体判决结果需根据法庭审理的情况综合考量。'"
      ]
     },
     "execution_count": 117,
     "metadata": {},
     "output_type": "execute_result"
    }
   ],
   "source": [
    "rag_chain.invoke(\"你现在是一个精通中国法律的法官，请对以下案件做出分析：经审理查明：被告人xxx于2017年12月，多次在本市xxx盗窃财物。具体事实如下：（一）2017年12月9日15时许，被告人xxx在xxx店内，盗窃白色毛衣一件（价值人民币259元）。现赃物已起获并发还。（二）2017年12月9日16时许，被告人xx在本市xxx店内，盗窃米白色大衣一件（价值人民币1199元）。现赃物已起获并发还。（三）2017年12月11日19时许，被告人xxx在本市xxx内，盗窃耳机、手套、化妆镜等商品共八件（共计价值人民币357.3元）。现赃物已起获并发还。（四）2017年12月11日20时许，被告人xx在本市xxxx内，盗窃橙汁、牛肉干等商品共四件（共计价值人民币58.39元）。现赃物已起获并发还。2017年12月11日，被告人xx被公安机关抓获，其到案后如实供述了上述犯罪事实。经鉴定，被告人xxx被诊断为精神分裂症，限制刑事责任能力，有受审能力。\")"
   ]
  },
  {
   "cell_type": "code",
   "execution_count": null,
   "metadata": {
    "colab": {
     "base_uri": "https://localhost:8080/",
     "height": 52
    },
    "executionInfo": {
     "elapsed": 2589,
     "status": "ok",
     "timestamp": 1737054926384,
     "user": {
      "displayName": "YuXing Wu",
      "userId": "06505796107505570616"
     },
     "user_tz": -480
    },
    "id": "kIWJp5hU3lWP",
    "outputId": "fec3a8f7-16e5-45d1-9e16-b7ad982dd11c"
   },
   "outputs": [
    {
     "data": {
      "application/vnd.google.colaboratory.intrinsic+json": {
       "type": "string"
      },
      "text/plain": [
       "'根据《消费者权益保护法》第五十五条的规定，经营者提供过期商品属于欺诈行为，应按三倍商品价款赔偿。在此案例中，原告购买的商品14包已过保质期，属于欺诈行为，因此被告店铺需承担法律责任。根据法律规定，原告有权要求赔偿商品售价为三倍，即1675.2元，而非所要求的5586元。'"
      ]
     },
     "execution_count": 118,
     "metadata": {},
     "output_type": "execute_result"
    }
   ],
   "source": [
    "rag_chain.invoke(\"你现在是一个精通中国法律的法官， 请对以下案件做出分析：2012年5月1日，原告xxx在被告xxxx购买“玉兔牌”香肠15包，其中价值558.6元的14包香肠已过保质期。xxx到收银台结账后，即径直到服务台索赔，后因协商未果诉至法院，要求xxxx店支付14包香肠售价十倍的赔偿金5586元。\")"
   ]
  },
  {
   "cell_type": "code",
   "execution_count": null,
   "metadata": {
    "colab": {
     "base_uri": "https://localhost:8080/"
    },
    "collapsed": true,
    "executionInfo": {
     "elapsed": 4869,
     "status": "ok",
     "timestamp": 1737270179571,
     "user": {
      "displayName": "YuXing Wu",
      "userId": "06505796107505570616"
     },
     "user_tz": -480
    },
    "id": "uOOpMEnuPXMD",
    "outputId": "69d241e9-c5ef-4f71-9fca-78a3fdc1bde4"
   },
   "outputs": [
    {
     "name": "stdout",
     "output_type": "stream",
     "text": [
      "Collecting langgraph\n",
      "  Downloading langgraph-0.2.64-py3-none-any.whl.metadata (16 kB)\n",
      "Requirement already satisfied: langchain-core!=0.3.0,!=0.3.1,!=0.3.10,!=0.3.11,!=0.3.12,!=0.3.13,!=0.3.14,!=0.3.15,!=0.3.16,!=0.3.17,!=0.3.18,!=0.3.19,!=0.3.2,!=0.3.20,!=0.3.21,!=0.3.22,!=0.3.3,!=0.3.4,!=0.3.5,!=0.3.6,!=0.3.7,!=0.3.8,!=0.3.9,<0.4.0,>=0.2.43 in /usr/local/lib/python3.10/dist-packages (from langgraph) (0.3.30)\n",
      "Collecting langgraph-checkpoint<3.0.0,>=2.0.10 (from langgraph)\n",
      "  Downloading langgraph_checkpoint-2.0.10-py3-none-any.whl.metadata (4.6 kB)\n",
      "Collecting langgraph-sdk<0.2.0,>=0.1.42 (from langgraph)\n",
      "  Downloading langgraph_sdk-0.1.51-py3-none-any.whl.metadata (1.8 kB)\n",
      "Requirement already satisfied: PyYAML>=5.3 in /usr/local/lib/python3.10/dist-packages (from langchain-core!=0.3.0,!=0.3.1,!=0.3.10,!=0.3.11,!=0.3.12,!=0.3.13,!=0.3.14,!=0.3.15,!=0.3.16,!=0.3.17,!=0.3.18,!=0.3.19,!=0.3.2,!=0.3.20,!=0.3.21,!=0.3.22,!=0.3.3,!=0.3.4,!=0.3.5,!=0.3.6,!=0.3.7,!=0.3.8,!=0.3.9,<0.4.0,>=0.2.43->langgraph) (6.0.2)\n",
      "Requirement already satisfied: jsonpatch<2.0,>=1.33 in /usr/local/lib/python3.10/dist-packages (from langchain-core!=0.3.0,!=0.3.1,!=0.3.10,!=0.3.11,!=0.3.12,!=0.3.13,!=0.3.14,!=0.3.15,!=0.3.16,!=0.3.17,!=0.3.18,!=0.3.19,!=0.3.2,!=0.3.20,!=0.3.21,!=0.3.22,!=0.3.3,!=0.3.4,!=0.3.5,!=0.3.6,!=0.3.7,!=0.3.8,!=0.3.9,<0.4.0,>=0.2.43->langgraph) (1.33)\n",
      "Requirement already satisfied: langsmith<0.3,>=0.1.125 in /usr/local/lib/python3.10/dist-packages (from langchain-core!=0.3.0,!=0.3.1,!=0.3.10,!=0.3.11,!=0.3.12,!=0.3.13,!=0.3.14,!=0.3.15,!=0.3.16,!=0.3.17,!=0.3.18,!=0.3.19,!=0.3.2,!=0.3.20,!=0.3.21,!=0.3.22,!=0.3.3,!=0.3.4,!=0.3.5,!=0.3.6,!=0.3.7,!=0.3.8,!=0.3.9,<0.4.0,>=0.2.43->langgraph) (0.2.3)\n",
      "Requirement already satisfied: packaging<25,>=23.2 in /usr/local/lib/python3.10/dist-packages (from langchain-core!=0.3.0,!=0.3.1,!=0.3.10,!=0.3.11,!=0.3.12,!=0.3.13,!=0.3.14,!=0.3.15,!=0.3.16,!=0.3.17,!=0.3.18,!=0.3.19,!=0.3.2,!=0.3.20,!=0.3.21,!=0.3.22,!=0.3.3,!=0.3.4,!=0.3.5,!=0.3.6,!=0.3.7,!=0.3.8,!=0.3.9,<0.4.0,>=0.2.43->langgraph) (24.2)\n",
      "Requirement already satisfied: pydantic<3.0.0,>=2.5.2 in /usr/local/lib/python3.10/dist-packages (from langchain-core!=0.3.0,!=0.3.1,!=0.3.10,!=0.3.11,!=0.3.12,!=0.3.13,!=0.3.14,!=0.3.15,!=0.3.16,!=0.3.17,!=0.3.18,!=0.3.19,!=0.3.2,!=0.3.20,!=0.3.21,!=0.3.22,!=0.3.3,!=0.3.4,!=0.3.5,!=0.3.6,!=0.3.7,!=0.3.8,!=0.3.9,<0.4.0,>=0.2.43->langgraph) (2.10.3)\n",
      "Requirement already satisfied: tenacity!=8.4.0,<10.0.0,>=8.1.0 in /usr/local/lib/python3.10/dist-packages (from langchain-core!=0.3.0,!=0.3.1,!=0.3.10,!=0.3.11,!=0.3.12,!=0.3.13,!=0.3.14,!=0.3.15,!=0.3.16,!=0.3.17,!=0.3.18,!=0.3.19,!=0.3.2,!=0.3.20,!=0.3.21,!=0.3.22,!=0.3.3,!=0.3.4,!=0.3.5,!=0.3.6,!=0.3.7,!=0.3.8,!=0.3.9,<0.4.0,>=0.2.43->langgraph) (9.0.0)\n",
      "Requirement already satisfied: typing-extensions>=4.7 in /usr/local/lib/python3.10/dist-packages (from langchain-core!=0.3.0,!=0.3.1,!=0.3.10,!=0.3.11,!=0.3.12,!=0.3.13,!=0.3.14,!=0.3.15,!=0.3.16,!=0.3.17,!=0.3.18,!=0.3.19,!=0.3.2,!=0.3.20,!=0.3.21,!=0.3.22,!=0.3.3,!=0.3.4,!=0.3.5,!=0.3.6,!=0.3.7,!=0.3.8,!=0.3.9,<0.4.0,>=0.2.43->langgraph) (4.12.2)\n",
      "Requirement already satisfied: msgpack<2.0.0,>=1.1.0 in /usr/local/lib/python3.10/dist-packages (from langgraph-checkpoint<3.0.0,>=2.0.10->langgraph) (1.1.0)\n",
      "Requirement already satisfied: httpx>=0.25.2 in /usr/local/lib/python3.10/dist-packages (from langgraph-sdk<0.2.0,>=0.1.42->langgraph) (0.28.1)\n",
      "Requirement already satisfied: orjson>=3.10.1 in /usr/local/lib/python3.10/dist-packages (from langgraph-sdk<0.2.0,>=0.1.42->langgraph) (3.10.12)\n",
      "Requirement already satisfied: anyio in /usr/local/lib/python3.10/dist-packages (from httpx>=0.25.2->langgraph-sdk<0.2.0,>=0.1.42->langgraph) (3.7.1)\n",
      "Requirement already satisfied: certifi in /usr/local/lib/python3.10/dist-packages (from httpx>=0.25.2->langgraph-sdk<0.2.0,>=0.1.42->langgraph) (2024.12.14)\n",
      "Requirement already satisfied: httpcore==1.* in /usr/local/lib/python3.10/dist-packages (from httpx>=0.25.2->langgraph-sdk<0.2.0,>=0.1.42->langgraph) (1.0.7)\n",
      "Requirement already satisfied: idna in /usr/local/lib/python3.10/dist-packages (from httpx>=0.25.2->langgraph-sdk<0.2.0,>=0.1.42->langgraph) (3.10)\n",
      "Requirement already satisfied: h11<0.15,>=0.13 in /usr/local/lib/python3.10/dist-packages (from httpcore==1.*->httpx>=0.25.2->langgraph-sdk<0.2.0,>=0.1.42->langgraph) (0.14.0)\n",
      "Requirement already satisfied: jsonpointer>=1.9 in /usr/local/lib/python3.10/dist-packages (from jsonpatch<2.0,>=1.33->langchain-core!=0.3.0,!=0.3.1,!=0.3.10,!=0.3.11,!=0.3.12,!=0.3.13,!=0.3.14,!=0.3.15,!=0.3.16,!=0.3.17,!=0.3.18,!=0.3.19,!=0.3.2,!=0.3.20,!=0.3.21,!=0.3.22,!=0.3.3,!=0.3.4,!=0.3.5,!=0.3.6,!=0.3.7,!=0.3.8,!=0.3.9,<0.4.0,>=0.2.43->langgraph) (3.0.0)\n",
      "Requirement already satisfied: requests<3,>=2 in /usr/local/lib/python3.10/dist-packages (from langsmith<0.3,>=0.1.125->langchain-core!=0.3.0,!=0.3.1,!=0.3.10,!=0.3.11,!=0.3.12,!=0.3.13,!=0.3.14,!=0.3.15,!=0.3.16,!=0.3.17,!=0.3.18,!=0.3.19,!=0.3.2,!=0.3.20,!=0.3.21,!=0.3.22,!=0.3.3,!=0.3.4,!=0.3.5,!=0.3.6,!=0.3.7,!=0.3.8,!=0.3.9,<0.4.0,>=0.2.43->langgraph) (2.32.3)\n",
      "Requirement already satisfied: requests-toolbelt<2.0.0,>=1.0.0 in /usr/local/lib/python3.10/dist-packages (from langsmith<0.3,>=0.1.125->langchain-core!=0.3.0,!=0.3.1,!=0.3.10,!=0.3.11,!=0.3.12,!=0.3.13,!=0.3.14,!=0.3.15,!=0.3.16,!=0.3.17,!=0.3.18,!=0.3.19,!=0.3.2,!=0.3.20,!=0.3.21,!=0.3.22,!=0.3.3,!=0.3.4,!=0.3.5,!=0.3.6,!=0.3.7,!=0.3.8,!=0.3.9,<0.4.0,>=0.2.43->langgraph) (1.0.0)\n",
      "Requirement already satisfied: annotated-types>=0.6.0 in /usr/local/lib/python3.10/dist-packages (from pydantic<3.0.0,>=2.5.2->langchain-core!=0.3.0,!=0.3.1,!=0.3.10,!=0.3.11,!=0.3.12,!=0.3.13,!=0.3.14,!=0.3.15,!=0.3.16,!=0.3.17,!=0.3.18,!=0.3.19,!=0.3.2,!=0.3.20,!=0.3.21,!=0.3.22,!=0.3.3,!=0.3.4,!=0.3.5,!=0.3.6,!=0.3.7,!=0.3.8,!=0.3.9,<0.4.0,>=0.2.43->langgraph) (0.7.0)\n",
      "Requirement already satisfied: pydantic-core==2.27.1 in /usr/local/lib/python3.10/dist-packages (from pydantic<3.0.0,>=2.5.2->langchain-core!=0.3.0,!=0.3.1,!=0.3.10,!=0.3.11,!=0.3.12,!=0.3.13,!=0.3.14,!=0.3.15,!=0.3.16,!=0.3.17,!=0.3.18,!=0.3.19,!=0.3.2,!=0.3.20,!=0.3.21,!=0.3.22,!=0.3.3,!=0.3.4,!=0.3.5,!=0.3.6,!=0.3.7,!=0.3.8,!=0.3.9,<0.4.0,>=0.2.43->langgraph) (2.27.1)\n",
      "Requirement already satisfied: charset-normalizer<4,>=2 in /usr/local/lib/python3.10/dist-packages (from requests<3,>=2->langsmith<0.3,>=0.1.125->langchain-core!=0.3.0,!=0.3.1,!=0.3.10,!=0.3.11,!=0.3.12,!=0.3.13,!=0.3.14,!=0.3.15,!=0.3.16,!=0.3.17,!=0.3.18,!=0.3.19,!=0.3.2,!=0.3.20,!=0.3.21,!=0.3.22,!=0.3.3,!=0.3.4,!=0.3.5,!=0.3.6,!=0.3.7,!=0.3.8,!=0.3.9,<0.4.0,>=0.2.43->langgraph) (3.4.0)\n",
      "Requirement already satisfied: urllib3<3,>=1.21.1 in /usr/local/lib/python3.10/dist-packages (from requests<3,>=2->langsmith<0.3,>=0.1.125->langchain-core!=0.3.0,!=0.3.1,!=0.3.10,!=0.3.11,!=0.3.12,!=0.3.13,!=0.3.14,!=0.3.15,!=0.3.16,!=0.3.17,!=0.3.18,!=0.3.19,!=0.3.2,!=0.3.20,!=0.3.21,!=0.3.22,!=0.3.3,!=0.3.4,!=0.3.5,!=0.3.6,!=0.3.7,!=0.3.8,!=0.3.9,<0.4.0,>=0.2.43->langgraph) (2.2.3)\n",
      "Requirement already satisfied: sniffio>=1.1 in /usr/local/lib/python3.10/dist-packages (from anyio->httpx>=0.25.2->langgraph-sdk<0.2.0,>=0.1.42->langgraph) (1.3.1)\n",
      "Requirement already satisfied: exceptiongroup in /usr/local/lib/python3.10/dist-packages (from anyio->httpx>=0.25.2->langgraph-sdk<0.2.0,>=0.1.42->langgraph) (1.2.2)\n",
      "Downloading langgraph-0.2.64-py3-none-any.whl (142 kB)\n",
      "\u001b[2K   \u001b[90m━━━━━━━━━━━━━━━━━━━━━━━━━━━━━━━━━━━━━━━━\u001b[0m \u001b[32m142.6/142.6 kB\u001b[0m \u001b[31m5.3 MB/s\u001b[0m eta \u001b[36m0:00:00\u001b[0m\n",
      "\u001b[?25hDownloading langgraph_checkpoint-2.0.10-py3-none-any.whl (37 kB)\n",
      "Downloading langgraph_sdk-0.1.51-py3-none-any.whl (44 kB)\n",
      "\u001b[2K   \u001b[90m━━━━━━━━━━━━━━━━━━━━━━━━━━━━━━━━━━━━━━━━\u001b[0m \u001b[32m44.7/44.7 kB\u001b[0m \u001b[31m3.0 MB/s\u001b[0m eta \u001b[36m0:00:00\u001b[0m\n",
      "\u001b[?25hInstalling collected packages: langgraph-sdk, langgraph-checkpoint, langgraph\n",
      "Successfully installed langgraph-0.2.64 langgraph-checkpoint-2.0.10 langgraph-sdk-0.1.51\n"
     ]
    }
   ],
   "source": [
    "!pip install langgraph"
   ]
  },
  {
   "cell_type": "code",
   "execution_count": null,
   "metadata": {
    "colab": {
     "base_uri": "https://localhost:8080/"
    },
    "executionInfo": {
     "elapsed": 6,
     "status": "ok",
     "timestamp": 1737270180437,
     "user": {
      "displayName": "YuXing Wu",
      "userId": "06505796107505570616"
     },
     "user_tz": -480
    },
    "id": "dBkhNIBrPUfq",
    "outputId": "869435ed-c3b6-491e-cad1-88d670a7d882"
   },
   "outputs": [
    {
     "name": "stderr",
     "output_type": "stream",
     "text": [
      "WARNING:langchain_community.utils.user_agent:USER_AGENT environment variable not set, consider setting it to identify your requests.\n",
      "/usr/local/lib/python3.10/dist-packages/IPython/core/interactiveshell.py:3553: LangChainDeprecationWarning: As of langchain-core 0.3.0, LangChain uses pydantic v2 internally. The langchain_core.pydantic_v1 module was a compatibility shim for pydantic v1, and should no longer be used. Please update the code to import from Pydantic directly.\n",
      "\n",
      "For example, replace imports like: `from langchain_core.pydantic_v1 import BaseModel`\n",
      "with: `from pydantic import BaseModel`\n",
      "or the v1 compatibility namespace if you are working in a code base that has not been fully upgraded to pydantic 2 yet. \tfrom pydantic.v1 import BaseModel\n",
      "\n",
      "  exec(code_obj, self.user_global_ns, self.user_ns)\n"
     ]
    }
   ],
   "source": [
    "import re\n",
    "from typing import Annotated, Iterator, Literal, TypedDict\n",
    "\n",
    "from langchain import hub\n",
    "\n",
    "# llm\n",
    "# from langchain_anthropic import ChatAnthropic\n",
    "from langchain_openai import ChatOpenAI\n",
    "\n",
    "# tool,\n",
    "# https://python.langchain.com/v0.2/docs/integrations/tools/tavily_search/\n",
    "# TAVILY_API_KEY\n",
    "from langchain_community.tools.tavily_search import TavilySearchResults\n",
    "\n",
    "# rag\n",
    "from langchain_community.document_loaders import web_base\n",
    "from langchain_community.vectorstores import Chroma\n",
    "from langchain_core.documents import Document\n",
    "from langchain_openai import OpenAIEmbeddings\n",
    "from langchain_core.retrievers import BaseRetriever\n",
    "\n",
    "# messages & prompts\n",
    "from langchain_core.messages import BaseMessage, AIMessage, convert_to_messages\n",
    "from langchain_core.prompts import ChatPromptTemplate\n",
    "\n",
    "from langchain_core.output_parsers import StrOutputParser\n",
    "from langchain_core.pydantic_v1 import BaseModel, Field\n",
    "from langchain_text_splitters import RecursiveCharacterTextSplitter\n",
    "\n",
    "# langgraph\n",
    "from langgraph.graph import END, StateGraph, add_messages\n",
    "\n",
    "from langgraph.checkpoint.memory import MemorySaver"
   ]
  },
  {
   "cell_type": "code",
   "execution_count": null,
   "metadata": {
    "id": "GSQq9xJAQs5Y"
   },
   "outputs": [],
   "source": [
    "os.environ[\"TAVILY_API_KEY\"] = \"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\""
   ]
  },
  {
   "cell_type": "code",
   "execution_count": null,
   "metadata": {
    "colab": {
     "base_uri": "https://localhost:8080/"
    },
    "collapsed": true,
    "executionInfo": {
     "elapsed": 29902,
     "status": "ok",
     "timestamp": 1737270220403,
     "user": {
      "displayName": "YuXing Wu",
      "userId": "06505796107505570616"
     },
     "user_tz": -480
    },
    "id": "RKTmlcxmbXbE",
    "outputId": "77e18cc2-6f10-4182-de7b-3b23de6c98d9"
   },
   "outputs": [
    {
     "name": "stdout",
     "output_type": "stream",
     "text": [
      "Collecting chromadb\n",
      "  Downloading chromadb-0.6.3-py3-none-any.whl.metadata (6.8 kB)\n",
      "Collecting build>=1.0.3 (from chromadb)\n",
      "  Downloading build-1.2.2.post1-py3-none-any.whl.metadata (6.5 kB)\n",
      "Requirement already satisfied: pydantic>=1.9 in /usr/local/lib/python3.10/dist-packages (from chromadb) (2.10.3)\n",
      "Collecting chroma-hnswlib==0.7.6 (from chromadb)\n",
      "  Downloading chroma_hnswlib-0.7.6-cp310-cp310-manylinux_2_17_x86_64.manylinux2014_x86_64.whl.metadata (252 bytes)\n",
      "Collecting fastapi>=0.95.2 (from chromadb)\n",
      "  Downloading fastapi-0.115.6-py3-none-any.whl.metadata (27 kB)\n",
      "Collecting uvicorn>=0.18.3 (from uvicorn[standard]>=0.18.3->chromadb)\n",
      "  Downloading uvicorn-0.34.0-py3-none-any.whl.metadata (6.5 kB)\n",
      "Requirement already satisfied: numpy>=1.22.5 in /usr/local/lib/python3.10/dist-packages (from chromadb) (1.26.4)\n",
      "Collecting posthog>=2.4.0 (from chromadb)\n",
      "  Downloading posthog-3.8.3-py2.py3-none-any.whl.metadata (2.7 kB)\n",
      "Requirement already satisfied: typing_extensions>=4.5.0 in /usr/local/lib/python3.10/dist-packages (from chromadb) (4.12.2)\n",
      "Collecting onnxruntime>=1.14.1 (from chromadb)\n",
      "  Downloading onnxruntime-1.20.1-cp310-cp310-manylinux_2_27_x86_64.manylinux_2_28_x86_64.whl.metadata (4.5 kB)\n",
      "Requirement already satisfied: opentelemetry-api>=1.2.0 in /usr/local/lib/python3.10/dist-packages (from chromadb) (1.29.0)\n",
      "Collecting opentelemetry-exporter-otlp-proto-grpc>=1.2.0 (from chromadb)\n",
      "  Downloading opentelemetry_exporter_otlp_proto_grpc-1.29.0-py3-none-any.whl.metadata (2.2 kB)\n",
      "Collecting opentelemetry-instrumentation-fastapi>=0.41b0 (from chromadb)\n",
      "  Downloading opentelemetry_instrumentation_fastapi-0.50b0-py3-none-any.whl.metadata (2.1 kB)\n",
      "Requirement already satisfied: opentelemetry-sdk>=1.2.0 in /usr/local/lib/python3.10/dist-packages (from chromadb) (1.29.0)\n",
      "Requirement already satisfied: tokenizers>=0.13.2 in /usr/local/lib/python3.10/dist-packages (from chromadb) (0.21.0)\n",
      "Collecting pypika>=0.48.9 (from chromadb)\n",
      "  Downloading PyPika-0.48.9.tar.gz (67 kB)\n",
      "\u001b[2K     \u001b[90m━━━━━━━━━━━━━━━━━━━━━━━━━━━━━━━━━━━━━━━━\u001b[0m \u001b[32m67.3/67.3 kB\u001b[0m \u001b[31m3.4 MB/s\u001b[0m eta \u001b[36m0:00:00\u001b[0m\n",
      "\u001b[?25h  Installing build dependencies ... \u001b[?25l\u001b[?25hdone\n",
      "  Getting requirements to build wheel ... \u001b[?25l\u001b[?25hdone\n",
      "  Preparing metadata (pyproject.toml) ... \u001b[?25l\u001b[?25hdone\n",
      "Requirement already satisfied: tqdm>=4.65.0 in /usr/local/lib/python3.10/dist-packages (from chromadb) (4.67.1)\n",
      "Collecting overrides>=7.3.1 (from chromadb)\n",
      "  Downloading overrides-7.7.0-py3-none-any.whl.metadata (5.8 kB)\n",
      "Requirement already satisfied: importlib-resources in /usr/local/lib/python3.10/dist-packages (from chromadb) (6.4.5)\n",
      "Requirement already satisfied: grpcio>=1.58.0 in /usr/local/lib/python3.10/dist-packages (from chromadb) (1.68.1)\n",
      "Collecting bcrypt>=4.0.1 (from chromadb)\n",
      "  Downloading bcrypt-4.2.1-cp39-abi3-manylinux_2_28_x86_64.whl.metadata (9.8 kB)\n",
      "Requirement already satisfied: typer>=0.9.0 in /usr/local/lib/python3.10/dist-packages (from chromadb) (0.15.1)\n",
      "Collecting kubernetes>=28.1.0 (from chromadb)\n",
      "  Downloading kubernetes-31.0.0-py2.py3-none-any.whl.metadata (1.5 kB)\n",
      "Requirement already satisfied: tenacity>=8.2.3 in /usr/local/lib/python3.10/dist-packages (from chromadb) (9.0.0)\n",
      "Requirement already satisfied: PyYAML>=6.0.0 in /usr/local/lib/python3.10/dist-packages (from chromadb) (6.0.2)\n",
      "Collecting mmh3>=4.0.1 (from chromadb)\n",
      "  Downloading mmh3-5.0.1-cp310-cp310-manylinux_2_5_x86_64.manylinux1_x86_64.manylinux_2_17_x86_64.manylinux2014_x86_64.whl.metadata (14 kB)\n",
      "Requirement already satisfied: orjson>=3.9.12 in /usr/local/lib/python3.10/dist-packages (from chromadb) (3.10.12)\n",
      "Requirement already satisfied: httpx>=0.27.0 in /usr/local/lib/python3.10/dist-packages (from chromadb) (0.28.1)\n",
      "Requirement already satisfied: rich>=10.11.0 in /usr/local/lib/python3.10/dist-packages (from chromadb) (13.9.4)\n",
      "Requirement already satisfied: packaging>=19.1 in /usr/local/lib/python3.10/dist-packages (from build>=1.0.3->chromadb) (24.2)\n",
      "Collecting pyproject_hooks (from build>=1.0.3->chromadb)\n",
      "  Downloading pyproject_hooks-1.2.0-py3-none-any.whl.metadata (1.3 kB)\n",
      "Requirement already satisfied: tomli>=1.1.0 in /usr/local/lib/python3.10/dist-packages (from build>=1.0.3->chromadb) (2.2.1)\n",
      "Collecting starlette<0.42.0,>=0.40.0 (from fastapi>=0.95.2->chromadb)\n",
      "  Downloading starlette-0.41.3-py3-none-any.whl.metadata (6.0 kB)\n",
      "Requirement already satisfied: anyio in /usr/local/lib/python3.10/dist-packages (from httpx>=0.27.0->chromadb) (3.7.1)\n",
      "Requirement already satisfied: certifi in /usr/local/lib/python3.10/dist-packages (from httpx>=0.27.0->chromadb) (2024.12.14)\n",
      "Requirement already satisfied: httpcore==1.* in /usr/local/lib/python3.10/dist-packages (from httpx>=0.27.0->chromadb) (1.0.7)\n",
      "Requirement already satisfied: idna in /usr/local/lib/python3.10/dist-packages (from httpx>=0.27.0->chromadb) (3.10)\n",
      "Requirement already satisfied: h11<0.15,>=0.13 in /usr/local/lib/python3.10/dist-packages (from httpcore==1.*->httpx>=0.27.0->chromadb) (0.14.0)\n",
      "Requirement already satisfied: six>=1.9.0 in /usr/local/lib/python3.10/dist-packages (from kubernetes>=28.1.0->chromadb) (1.17.0)\n",
      "Requirement already satisfied: python-dateutil>=2.5.3 in /usr/local/lib/python3.10/dist-packages (from kubernetes>=28.1.0->chromadb) (2.8.2)\n",
      "Requirement already satisfied: google-auth>=1.0.1 in /usr/local/lib/python3.10/dist-packages (from kubernetes>=28.1.0->chromadb) (2.27.0)\n",
      "Requirement already satisfied: websocket-client!=0.40.0,!=0.41.*,!=0.42.*,>=0.32.0 in /usr/local/lib/python3.10/dist-packages (from kubernetes>=28.1.0->chromadb) (1.8.0)\n",
      "Requirement already satisfied: requests in /usr/local/lib/python3.10/dist-packages (from kubernetes>=28.1.0->chromadb) (2.32.3)\n",
      "Requirement already satisfied: requests-oauthlib in /usr/local/lib/python3.10/dist-packages (from kubernetes>=28.1.0->chromadb) (1.3.1)\n",
      "Requirement already satisfied: oauthlib>=3.2.2 in /usr/local/lib/python3.10/dist-packages (from kubernetes>=28.1.0->chromadb) (3.2.2)\n",
      "Requirement already satisfied: urllib3>=1.24.2 in /usr/local/lib/python3.10/dist-packages (from kubernetes>=28.1.0->chromadb) (2.2.3)\n",
      "Collecting durationpy>=0.7 (from kubernetes>=28.1.0->chromadb)\n",
      "  Downloading durationpy-0.9-py3-none-any.whl.metadata (338 bytes)\n",
      "Collecting coloredlogs (from onnxruntime>=1.14.1->chromadb)\n",
      "  Downloading coloredlogs-15.0.1-py2.py3-none-any.whl.metadata (12 kB)\n",
      "Requirement already satisfied: flatbuffers in /usr/local/lib/python3.10/dist-packages (from onnxruntime>=1.14.1->chromadb) (24.3.25)\n",
      "Requirement already satisfied: protobuf in /usr/local/lib/python3.10/dist-packages (from onnxruntime>=1.14.1->chromadb) (4.25.5)\n",
      "Requirement already satisfied: sympy in /usr/local/lib/python3.10/dist-packages (from onnxruntime>=1.14.1->chromadb) (1.13.1)\n",
      "Requirement already satisfied: deprecated>=1.2.6 in /usr/local/lib/python3.10/dist-packages (from opentelemetry-api>=1.2.0->chromadb) (1.2.15)\n",
      "Requirement already satisfied: importlib-metadata<=8.5.0,>=6.0 in /usr/local/lib/python3.10/dist-packages (from opentelemetry-api>=1.2.0->chromadb) (8.5.0)\n",
      "Requirement already satisfied: googleapis-common-protos~=1.52 in /usr/local/lib/python3.10/dist-packages (from opentelemetry-exporter-otlp-proto-grpc>=1.2.0->chromadb) (1.66.0)\n",
      "Collecting opentelemetry-exporter-otlp-proto-common==1.29.0 (from opentelemetry-exporter-otlp-proto-grpc>=1.2.0->chromadb)\n",
      "  Downloading opentelemetry_exporter_otlp_proto_common-1.29.0-py3-none-any.whl.metadata (1.8 kB)\n",
      "Collecting opentelemetry-proto==1.29.0 (from opentelemetry-exporter-otlp-proto-grpc>=1.2.0->chromadb)\n",
      "  Downloading opentelemetry_proto-1.29.0-py3-none-any.whl.metadata (2.3 kB)\n",
      "Collecting protobuf (from onnxruntime>=1.14.1->chromadb)\n",
      "  Downloading protobuf-5.29.3-cp38-abi3-manylinux2014_x86_64.whl.metadata (592 bytes)\n",
      "Collecting opentelemetry-instrumentation-asgi==0.50b0 (from opentelemetry-instrumentation-fastapi>=0.41b0->chromadb)\n",
      "  Downloading opentelemetry_instrumentation_asgi-0.50b0-py3-none-any.whl.metadata (1.9 kB)\n",
      "Collecting opentelemetry-instrumentation==0.50b0 (from opentelemetry-instrumentation-fastapi>=0.41b0->chromadb)\n",
      "  Downloading opentelemetry_instrumentation-0.50b0-py3-none-any.whl.metadata (6.1 kB)\n",
      "Requirement already satisfied: opentelemetry-semantic-conventions==0.50b0 in /usr/local/lib/python3.10/dist-packages (from opentelemetry-instrumentation-fastapi>=0.41b0->chromadb) (0.50b0)\n",
      "Collecting opentelemetry-util-http==0.50b0 (from opentelemetry-instrumentation-fastapi>=0.41b0->chromadb)\n",
      "  Downloading opentelemetry_util_http-0.50b0-py3-none-any.whl.metadata (2.5 kB)\n",
      "Requirement already satisfied: wrapt<2.0.0,>=1.0.0 in /usr/local/lib/python3.10/dist-packages (from opentelemetry-instrumentation==0.50b0->opentelemetry-instrumentation-fastapi>=0.41b0->chromadb) (1.17.0)\n",
      "Collecting asgiref~=3.0 (from opentelemetry-instrumentation-asgi==0.50b0->opentelemetry-instrumentation-fastapi>=0.41b0->chromadb)\n",
      "  Downloading asgiref-3.8.1-py3-none-any.whl.metadata (9.3 kB)\n",
      "Collecting monotonic>=1.5 (from posthog>=2.4.0->chromadb)\n",
      "  Downloading monotonic-1.6-py2.py3-none-any.whl.metadata (1.5 kB)\n",
      "Collecting backoff>=1.10.0 (from posthog>=2.4.0->chromadb)\n",
      "  Downloading backoff-2.2.1-py3-none-any.whl.metadata (14 kB)\n",
      "Requirement already satisfied: annotated-types>=0.6.0 in /usr/local/lib/python3.10/dist-packages (from pydantic>=1.9->chromadb) (0.7.0)\n",
      "Requirement already satisfied: pydantic-core==2.27.1 in /usr/local/lib/python3.10/dist-packages (from pydantic>=1.9->chromadb) (2.27.1)\n",
      "Requirement already satisfied: markdown-it-py>=2.2.0 in /usr/local/lib/python3.10/dist-packages (from rich>=10.11.0->chromadb) (3.0.0)\n",
      "Requirement already satisfied: pygments<3.0.0,>=2.13.0 in /usr/local/lib/python3.10/dist-packages (from rich>=10.11.0->chromadb) (2.18.0)\n",
      "Requirement already satisfied: huggingface-hub<1.0,>=0.16.4 in /usr/local/lib/python3.10/dist-packages (from tokenizers>=0.13.2->chromadb) (0.27.0)\n",
      "Requirement already satisfied: click>=8.0.0 in /usr/local/lib/python3.10/dist-packages (from typer>=0.9.0->chromadb) (8.1.7)\n",
      "Requirement already satisfied: shellingham>=1.3.0 in /usr/local/lib/python3.10/dist-packages (from typer>=0.9.0->chromadb) (1.5.4)\n",
      "Collecting httptools>=0.6.3 (from uvicorn[standard]>=0.18.3->chromadb)\n",
      "  Downloading httptools-0.6.4-cp310-cp310-manylinux_2_5_x86_64.manylinux1_x86_64.manylinux_2_17_x86_64.manylinux2014_x86_64.whl.metadata (3.6 kB)\n",
      "Requirement already satisfied: python-dotenv>=0.13 in /usr/local/lib/python3.10/dist-packages (from uvicorn[standard]>=0.18.3->chromadb) (1.0.1)\n",
      "Collecting uvloop!=0.15.0,!=0.15.1,>=0.14.0 (from uvicorn[standard]>=0.18.3->chromadb)\n",
      "  Downloading uvloop-0.21.0-cp310-cp310-manylinux_2_17_x86_64.manylinux2014_x86_64.whl.metadata (4.9 kB)\n",
      "Collecting watchfiles>=0.13 (from uvicorn[standard]>=0.18.3->chromadb)\n",
      "  Downloading watchfiles-1.0.4-cp310-cp310-manylinux_2_17_x86_64.manylinux2014_x86_64.whl.metadata (4.9 kB)\n",
      "Requirement already satisfied: websockets>=10.4 in /usr/local/lib/python3.10/dist-packages (from uvicorn[standard]>=0.18.3->chromadb) (14.1)\n",
      "Requirement already satisfied: cachetools<6.0,>=2.0.0 in /usr/local/lib/python3.10/dist-packages (from google-auth>=1.0.1->kubernetes>=28.1.0->chromadb) (5.5.0)\n",
      "Requirement already satisfied: pyasn1-modules>=0.2.1 in /usr/local/lib/python3.10/dist-packages (from google-auth>=1.0.1->kubernetes>=28.1.0->chromadb) (0.4.1)\n",
      "Requirement already satisfied: rsa<5,>=3.1.4 in /usr/local/lib/python3.10/dist-packages (from google-auth>=1.0.1->kubernetes>=28.1.0->chromadb) (4.9)\n",
      "Requirement already satisfied: filelock in /usr/local/lib/python3.10/dist-packages (from huggingface-hub<1.0,>=0.16.4->tokenizers>=0.13.2->chromadb) (3.16.1)\n",
      "Requirement already satisfied: fsspec>=2023.5.0 in /usr/local/lib/python3.10/dist-packages (from huggingface-hub<1.0,>=0.16.4->tokenizers>=0.13.2->chromadb) (2024.10.0)\n",
      "Requirement already satisfied: zipp>=3.20 in /usr/local/lib/python3.10/dist-packages (from importlib-metadata<=8.5.0,>=6.0->opentelemetry-api>=1.2.0->chromadb) (3.21.0)\n",
      "Requirement already satisfied: mdurl~=0.1 in /usr/local/lib/python3.10/dist-packages (from markdown-it-py>=2.2.0->rich>=10.11.0->chromadb) (0.1.2)\n",
      "Requirement already satisfied: charset-normalizer<4,>=2 in /usr/local/lib/python3.10/dist-packages (from requests->kubernetes>=28.1.0->chromadb) (3.4.0)\n",
      "Requirement already satisfied: sniffio>=1.1 in /usr/local/lib/python3.10/dist-packages (from anyio->httpx>=0.27.0->chromadb) (1.3.1)\n",
      "Requirement already satisfied: exceptiongroup in /usr/local/lib/python3.10/dist-packages (from anyio->httpx>=0.27.0->chromadb) (1.2.2)\n",
      "Collecting humanfriendly>=9.1 (from coloredlogs->onnxruntime>=1.14.1->chromadb)\n",
      "  Downloading humanfriendly-10.0-py2.py3-none-any.whl.metadata (9.2 kB)\n",
      "Requirement already satisfied: mpmath<1.4,>=1.1.0 in /usr/local/lib/python3.10/dist-packages (from sympy->onnxruntime>=1.14.1->chromadb) (1.3.0)\n",
      "Requirement already satisfied: pyasn1<0.7.0,>=0.4.6 in /usr/local/lib/python3.10/dist-packages (from pyasn1-modules>=0.2.1->google-auth>=1.0.1->kubernetes>=28.1.0->chromadb) (0.6.1)\n",
      "Downloading chromadb-0.6.3-py3-none-any.whl (611 kB)\n",
      "\u001b[2K   \u001b[90m━━━━━━━━━━━━━━━━━━━━━━━━━━━━━━━━━━━━━━━━\u001b[0m \u001b[32m611.1/611.1 kB\u001b[0m \u001b[31m21.0 MB/s\u001b[0m eta \u001b[36m0:00:00\u001b[0m\n",
      "\u001b[?25hDownloading chroma_hnswlib-0.7.6-cp310-cp310-manylinux_2_17_x86_64.manylinux2014_x86_64.whl (2.4 MB)\n",
      "\u001b[2K   \u001b[90m━━━━━━━━━━━━━━━━━━━━━━━━━━━━━━━━━━━━━━━━\u001b[0m \u001b[32m2.4/2.4 MB\u001b[0m \u001b[31m54.2 MB/s\u001b[0m eta \u001b[36m0:00:00\u001b[0m\n",
      "\u001b[?25hDownloading bcrypt-4.2.1-cp39-abi3-manylinux_2_28_x86_64.whl (278 kB)\n",
      "\u001b[2K   \u001b[90m━━━━━━━━━━━━━━━━━━━━━━━━━━━━━━━━━━━━━━━━\u001b[0m \u001b[32m278.6/278.6 kB\u001b[0m \u001b[31m20.5 MB/s\u001b[0m eta \u001b[36m0:00:00\u001b[0m\n",
      "\u001b[?25hDownloading build-1.2.2.post1-py3-none-any.whl (22 kB)\n",
      "Downloading fastapi-0.115.6-py3-none-any.whl (94 kB)\n",
      "\u001b[2K   \u001b[90m━━━━━━━━━━━━━━━━━━━━━━━━━━━━━━━━━━━━━━━━\u001b[0m \u001b[32m94.8/94.8 kB\u001b[0m \u001b[31m7.2 MB/s\u001b[0m eta \u001b[36m0:00:00\u001b[0m\n",
      "\u001b[?25hDownloading kubernetes-31.0.0-py2.py3-none-any.whl (1.9 MB)\n",
      "\u001b[2K   \u001b[90m━━━━━━━━━━━━━━━━━━━━━━━━━━━━━━━━━━━━━━━━\u001b[0m \u001b[32m1.9/1.9 MB\u001b[0m \u001b[31m69.6 MB/s\u001b[0m eta \u001b[36m0:00:00\u001b[0m\n",
      "\u001b[?25hDownloading mmh3-5.0.1-cp310-cp310-manylinux_2_5_x86_64.manylinux1_x86_64.manylinux_2_17_x86_64.manylinux2014_x86_64.whl (93 kB)\n",
      "\u001b[2K   \u001b[90m━━━━━━━━━━━━━━━━━━━━━━━━━━━━━━━━━━━━━━━━\u001b[0m \u001b[32m93.2/93.2 kB\u001b[0m \u001b[31m7.8 MB/s\u001b[0m eta \u001b[36m0:00:00\u001b[0m\n",
      "\u001b[?25hDownloading onnxruntime-1.20.1-cp310-cp310-manylinux_2_27_x86_64.manylinux_2_28_x86_64.whl (13.3 MB)\n",
      "\u001b[2K   \u001b[90m━━━━━━━━━━━━━━━━━━━━━━━━━━━━━━━━━━━━━━━━\u001b[0m \u001b[32m13.3/13.3 MB\u001b[0m \u001b[31m61.8 MB/s\u001b[0m eta \u001b[36m0:00:00\u001b[0m\n",
      "\u001b[?25hDownloading opentelemetry_exporter_otlp_proto_grpc-1.29.0-py3-none-any.whl (18 kB)\n",
      "Downloading opentelemetry_exporter_otlp_proto_common-1.29.0-py3-none-any.whl (18 kB)\n",
      "Downloading opentelemetry_proto-1.29.0-py3-none-any.whl (55 kB)\n",
      "\u001b[2K   \u001b[90m━━━━━━━━━━━━━━━━━━━━━━━━━━━━━━━━━━━━━━━━\u001b[0m \u001b[32m55.8/55.8 kB\u001b[0m \u001b[31m4.2 MB/s\u001b[0m eta \u001b[36m0:00:00\u001b[0m\n",
      "\u001b[?25hDownloading opentelemetry_instrumentation_fastapi-0.50b0-py3-none-any.whl (12 kB)\n",
      "Downloading opentelemetry_instrumentation-0.50b0-py3-none-any.whl (30 kB)\n",
      "Downloading opentelemetry_instrumentation_asgi-0.50b0-py3-none-any.whl (16 kB)\n",
      "Downloading opentelemetry_util_http-0.50b0-py3-none-any.whl (6.9 kB)\n",
      "Downloading overrides-7.7.0-py3-none-any.whl (17 kB)\n",
      "Downloading posthog-3.8.3-py2.py3-none-any.whl (64 kB)\n",
      "\u001b[2K   \u001b[90m━━━━━━━━━━━━━━━━━━━━━━━━━━━━━━━━━━━━━━━━\u001b[0m \u001b[32m64.7/64.7 kB\u001b[0m \u001b[31m4.9 MB/s\u001b[0m eta \u001b[36m0:00:00\u001b[0m\n",
      "\u001b[?25hDownloading uvicorn-0.34.0-py3-none-any.whl (62 kB)\n",
      "\u001b[2K   \u001b[90m━━━━━━━━━━━━━━━━━━━━━━━━━━━━━━━━━━━━━━━━\u001b[0m \u001b[32m62.3/62.3 kB\u001b[0m \u001b[31m4.6 MB/s\u001b[0m eta \u001b[36m0:00:00\u001b[0m\n",
      "\u001b[?25hDownloading backoff-2.2.1-py3-none-any.whl (15 kB)\n",
      "Downloading durationpy-0.9-py3-none-any.whl (3.5 kB)\n",
      "Downloading httptools-0.6.4-cp310-cp310-manylinux_2_5_x86_64.manylinux1_x86_64.manylinux_2_17_x86_64.manylinux2014_x86_64.whl (442 kB)\n",
      "\u001b[2K   \u001b[90m━━━━━━━━━━━━━━━━━━━━━━━━━━━━━━━━━━━━━━━━\u001b[0m \u001b[32m442.1/442.1 kB\u001b[0m \u001b[31m30.2 MB/s\u001b[0m eta \u001b[36m0:00:00\u001b[0m\n",
      "\u001b[?25hDownloading monotonic-1.6-py2.py3-none-any.whl (8.2 kB)\n",
      "Downloading protobuf-5.29.3-cp38-abi3-manylinux2014_x86_64.whl (319 kB)\n",
      "\u001b[2K   \u001b[90m━━━━━━━━━━━━━━━━━━━━━━━━━━━━━━━━━━━━━━━━\u001b[0m \u001b[32m319.7/319.7 kB\u001b[0m \u001b[31m19.6 MB/s\u001b[0m eta \u001b[36m0:00:00\u001b[0m\n",
      "\u001b[?25hDownloading starlette-0.41.3-py3-none-any.whl (73 kB)\n",
      "\u001b[2K   \u001b[90m━━━━━━━━━━━━━━━━━━━━━━━━━━━━━━━━━━━━━━━━\u001b[0m \u001b[32m73.2/73.2 kB\u001b[0m \u001b[31m5.9 MB/s\u001b[0m eta \u001b[36m0:00:00\u001b[0m\n",
      "\u001b[?25hDownloading uvloop-0.21.0-cp310-cp310-manylinux_2_17_x86_64.manylinux2014_x86_64.whl (3.8 MB)\n",
      "\u001b[2K   \u001b[90m━━━━━━━━━━━━━━━━━━━━━━━━━━━━━━━━━━━━━━━━\u001b[0m \u001b[32m3.8/3.8 MB\u001b[0m \u001b[31m84.1 MB/s\u001b[0m eta \u001b[36m0:00:00\u001b[0m\n",
      "\u001b[?25hDownloading watchfiles-1.0.4-cp310-cp310-manylinux_2_17_x86_64.manylinux2014_x86_64.whl (452 kB)\n",
      "\u001b[2K   \u001b[90m━━━━━━━━━━━━━━━━━━━━━━━━━━━━━━━━━━━━━━━━\u001b[0m \u001b[32m452.9/452.9 kB\u001b[0m \u001b[31m28.6 MB/s\u001b[0m eta \u001b[36m0:00:00\u001b[0m\n",
      "\u001b[?25hDownloading coloredlogs-15.0.1-py2.py3-none-any.whl (46 kB)\n",
      "\u001b[2K   \u001b[90m━━━━━━━━━━━━━━━━━━━━━━━━━━━━━━━━━━━━━━━━\u001b[0m \u001b[32m46.0/46.0 kB\u001b[0m \u001b[31m3.2 MB/s\u001b[0m eta \u001b[36m0:00:00\u001b[0m\n",
      "\u001b[?25hDownloading pyproject_hooks-1.2.0-py3-none-any.whl (10 kB)\n",
      "Downloading asgiref-3.8.1-py3-none-any.whl (23 kB)\n",
      "Downloading humanfriendly-10.0-py2.py3-none-any.whl (86 kB)\n",
      "\u001b[2K   \u001b[90m━━━━━━━━━━━━━━━━━━━━━━━━━━━━━━━━━━━━━━━━\u001b[0m \u001b[32m86.8/86.8 kB\u001b[0m \u001b[31m6.6 MB/s\u001b[0m eta \u001b[36m0:00:00\u001b[0m\n",
      "\u001b[?25hBuilding wheels for collected packages: pypika\n",
      "  Building wheel for pypika (pyproject.toml) ... \u001b[?25l\u001b[?25hdone\n",
      "  Created wheel for pypika: filename=PyPika-0.48.9-py2.py3-none-any.whl size=53771 sha256=f0e3f16d506b8d3a9f94e53169eab19a7e64226c8800c0e8ee2d819a020b677f\n",
      "  Stored in directory: /root/.cache/pip/wheels/e1/26/51/d0bffb3d2fd82256676d7ad3003faea3bd6dddc9577af665f4\n",
      "Successfully built pypika\n",
      "Installing collected packages: pypika, monotonic, durationpy, uvloop, uvicorn, pyproject_hooks, protobuf, overrides, opentelemetry-util-http, mmh3, humanfriendly, httptools, chroma-hnswlib, bcrypt, backoff, asgiref, watchfiles, starlette, posthog, opentelemetry-proto, coloredlogs, build, opentelemetry-exporter-otlp-proto-common, onnxruntime, kubernetes, fastapi, opentelemetry-instrumentation, opentelemetry-instrumentation-asgi, opentelemetry-exporter-otlp-proto-grpc, opentelemetry-instrumentation-fastapi, chromadb\n",
      "  Attempting uninstall: protobuf\n",
      "    Found existing installation: protobuf 4.25.5\n",
      "    Uninstalling protobuf-4.25.5:\n",
      "      Successfully uninstalled protobuf-4.25.5\n",
      "\u001b[31mERROR: pip's dependency resolver does not currently take into account all the packages that are installed. This behaviour is the source of the following dependency conflicts.\n",
      "tensorflow 2.17.1 requires protobuf!=4.21.0,!=4.21.1,!=4.21.2,!=4.21.3,!=4.21.4,!=4.21.5,<5.0.0dev,>=3.20.3, but you have protobuf 5.29.3 which is incompatible.\n",
      "tensorflow-metadata 1.13.1 requires protobuf<5,>=3.20.3, but you have protobuf 5.29.3 which is incompatible.\u001b[0m\u001b[31m\n",
      "\u001b[0mSuccessfully installed asgiref-3.8.1 backoff-2.2.1 bcrypt-4.2.1 build-1.2.2.post1 chroma-hnswlib-0.7.6 chromadb-0.6.3 coloredlogs-15.0.1 durationpy-0.9 fastapi-0.115.6 httptools-0.6.4 humanfriendly-10.0 kubernetes-31.0.0 mmh3-5.0.1 monotonic-1.6 onnxruntime-1.20.1 opentelemetry-exporter-otlp-proto-common-1.29.0 opentelemetry-exporter-otlp-proto-grpc-1.29.0 opentelemetry-instrumentation-0.50b0 opentelemetry-instrumentation-asgi-0.50b0 opentelemetry-instrumentation-fastapi-0.50b0 opentelemetry-proto-1.29.0 opentelemetry-util-http-0.50b0 overrides-7.7.0 posthog-3.8.3 protobuf-5.29.3 pypika-0.48.9 pyproject_hooks-1.2.0 starlette-0.41.3 uvicorn-0.34.0 uvloop-0.21.0 watchfiles-1.0.4\n"
     ]
    }
   ],
   "source": [
    "!pip install chromadb"
   ]
  },
  {
   "cell_type": "code",
   "execution_count": null,
   "metadata": {
    "id": "AQxTbQc3PgNf"
   },
   "outputs": [],
   "source": [
    "llm = ChatOpenAI(model=\"gpt-4o\", temperature=0)\n",
    "tavily_search_tool = TavilySearchResults(max_results=3)"
   ]
  },
  {
   "cell_type": "code",
   "execution_count": null,
   "metadata": {
    "id": "Bt1d5JHpQ4c2"
   },
   "outputs": [],
   "source": [
    "class GraphState(TypedDict):\n",
    "    messages: Annotated[list[BaseMessage], add_messages]\n",
    "    question: str\n",
    "    documents: list[Document]\n",
    "    candidate_answer: str\n",
    "    retries: int\n",
    "    web_fallback: bool\n",
    "\n",
    "\n",
    "class GraphConfig(TypedDict):\n",
    "    max_retries: int"
   ]
  },
  {
   "cell_type": "code",
   "execution_count": null,
   "metadata": {
    "id": "HCvtGjQ0RGYa"
   },
   "outputs": [],
   "source": [
    "MAX_RETRIES = 3\n",
    "VERBOSE = True"
   ]
  },
  {
   "cell_type": "code",
   "execution_count": null,
   "metadata": {
    "id": "zfVD_UszcHFw"
   },
   "outputs": [],
   "source": [
    "def document_search(state: GraphState):\n",
    "    \"\"\"\n",
    "    Retrieve documents\n",
    "\n",
    "    Args:\n",
    "        state (dict): The current graph state\n",
    "\n",
    "    Returns:\n",
    "        state (dict): New key added to state, documents, that contains retrieved documents\n",
    "    \"\"\"\n",
    "    if VERBOSE:\n",
    "        print(\"---RETRIEVE---\")\n",
    "\n",
    "    question = convert_to_messages(state[\"messages\"])[-1].content\n",
    "\n",
    "    # Retrieval\n",
    "    documents = retriever.invoke(question)\n",
    "    return {\"documents\": documents, \"question\": question, \"web_fallback\": True}"
   ]
  },
  {
   "cell_type": "code",
   "execution_count": null,
   "metadata": {
    "colab": {
     "base_uri": "https://localhost:8080/"
    },
    "executionInfo": {
     "elapsed": 368,
     "status": "ok",
     "timestamp": 1737270613262,
     "user": {
      "displayName": "YuXing Wu",
      "userId": "06505796107505570616"
     },
     "user_tz": -480
    },
    "id": "IY0SrbSuRNCy",
    "outputId": "43cfa81a-cb66-442a-eb6b-688b8e776dc9"
   },
   "outputs": [
    {
     "name": "stderr",
     "output_type": "stream",
     "text": [
      "/usr/local/lib/python3.10/dist-packages/langsmith/client.py:261: LangSmithMissingAPIKeyWarning: API key must be provided when using hosted LangSmith API\n",
      "  warnings.warn(\n"
     ]
    },
    {
     "data": {
      "text/plain": [
       "ChatPromptTemplate(input_variables=['context', 'question'], input_types={}, partial_variables={}, metadata={'lc_hub_owner': 'rlm', 'lc_hub_repo': 'rag-prompt', 'lc_hub_commit_hash': '50442af133e61576e74536c6556cefe1fac147cad032f4377b60c436e6cdcb6e'}, messages=[HumanMessagePromptTemplate(prompt=PromptTemplate(input_variables=['context', 'question'], input_types={}, partial_variables={}, template=\"You are an assistant for question-answering tasks. Use the following pieces of retrieved context to answer the question. If you don't know the answer, just say that you don't know. Use three sentences maximum and keep the answer concise.\\nQuestion: {question} \\nContext: {context} \\nAnswer:\"), additional_kwargs={})])"
      ]
     },
     "execution_count": 17,
     "metadata": {},
     "output_type": "execute_result"
    }
   ],
   "source": [
    "RAG_PROMPT: ChatPromptTemplate = hub.pull(\"rlm/rag-prompt\")\n",
    "RAG_PROMPT"
   ]
  },
  {
   "cell_type": "code",
   "execution_count": null,
   "metadata": {
    "id": "Z2IuNaS4RYby"
   },
   "outputs": [],
   "source": [
    "def generate(state: GraphState):\n",
    "    \"\"\"\n",
    "    Generate answer\n",
    "\n",
    "    Args:\n",
    "        state (dict): The current graph state\n",
    "\n",
    "    Returns:\n",
    "        state (dict): New key added to state, generation, that contains LLM generation\n",
    "    \"\"\"\n",
    "    if VERBOSE:\n",
    "        print(\"---GENERATE---\")\n",
    "    question = state[\"question\"]\n",
    "    documents = state[\"documents\"]\n",
    "    retries = state[\"retries\"] if state.get(\"retries\") is not None else -1\n",
    "\n",
    "    # lcel\n",
    "    rag_chain = RAG_PROMPT | llm | StrOutputParser()\n",
    "    generation = rag_chain.invoke({\"context\": documents, \"question\": question})\n",
    "    return {\"retries\": retries + 1, \"candidate_answer\": generation}"
   ]
  },
  {
   "cell_type": "code",
   "execution_count": null,
   "metadata": {
    "id": "5Sx-oW_WRbhD"
   },
   "outputs": [],
   "source": [
    "QUERY_REWRITER_SYSTEM = (\n",
    "\"\"\"\n",
    "You are a question re-writer that converts an input question to a better version that is optimized for vectorstore retrieval.\n",
    "Look at the input and try to reason about the underlying semantic intent / meaning.\n",
    "\"\"\"\n",
    ")\n",
    "\n",
    "QUERY_REWRITER_PROMPT = ChatPromptTemplate.from_messages(\n",
    "    [\n",
    "        (\"system\", QUERY_REWRITER_SYSTEM),\n",
    "        (\n",
    "            \"human\",\n",
    "            \"Here is the initial question: \\n\\n {question} \\n Formulate an improved question.\",\n",
    "        ),\n",
    "    ]\n",
    ")"
   ]
  },
  {
   "cell_type": "code",
   "execution_count": null,
   "metadata": {
    "id": "iSQffCBfReQe"
   },
   "outputs": [],
   "source": [
    "def transform_query(state: GraphState):\n",
    "    \"\"\"\n",
    "    Transform the query to produce a better question.\n",
    "\n",
    "    Args:\n",
    "        state (dict): The current graph state\n",
    "\n",
    "    Returns:\n",
    "        state (dict): Updates question key with a re-phrased question\n",
    "    \"\"\"\n",
    "    if VERBOSE:\n",
    "        print(\"---TRANSFORM QUERY---\")\n",
    "\n",
    "    question = state[\"question\"]\n",
    "\n",
    "    # Re-write question\n",
    "    query_rewriter = QUERY_REWRITER_PROMPT | llm | StrOutputParser()\n",
    "    better_question = query_rewriter.invoke({\"question\": question})\n",
    "    return {\"question\": better_question}"
   ]
  },
  {
   "cell_type": "code",
   "execution_count": null,
   "metadata": {
    "id": "QrXb6FKQRgrh"
   },
   "outputs": [],
   "source": [
    "def web_search(state: GraphState):\n",
    "    if VERBOSE:\n",
    "        print(\"---RUNNING WEB SEARCH---\")\n",
    "\n",
    "    question = state[\"question\"]\n",
    "    documents = state[\"documents\"]\n",
    "    print(\"---RUNNING TRAVILY SEARCH---\")\n",
    "    search_results = tavily_search_tool.invoke(question)\n",
    "    print(search_results)\n",
    "    search_content = \"\\n\".join([d[\"content\"] for d in search_results])\n",
    "    documents.append(Document(page_content=search_content, metadata={\"source\": \"websearch\"}))\n",
    "    return {\"documents\": documents, \"web_fallback\": False}"
   ]
  },
  {
   "cell_type": "code",
   "execution_count": null,
   "metadata": {
    "id": "7ChECwE6RjLs"
   },
   "outputs": [],
   "source": [
    "def finalize_response(state: GraphState):\n",
    "    if VERBOSE:\n",
    "        print(\"---FINALIZING THE RESPONSE---\")\n",
    "\n",
    "    return {\"messages\": [AIMessage(content=state[\"candidate_answer\"])]}"
   ]
  },
  {
   "cell_type": "code",
   "execution_count": null,
   "metadata": {
    "id": "xBjRc2jDRocr"
   },
   "outputs": [],
   "source": [
    "class GradeHallucinations(BaseModel):\n",
    "    \"\"\"Binary score for hallucination present in generation answer.\"\"\"\n",
    "\n",
    "    binary_score: str = Field(\n",
    "        description=\"Answer is grounded in the facts, 'yes' or 'no'\"\n",
    "    )\n",
    "\n",
    "\n",
    "HALLUCINATION_GRADER_SYSTEM = (\n",
    "\"\"\"\n",
    "You are a grader assessing whether an LLM generation is grounded in / supported by a set of retrieved facts.\n",
    "Give a binary score 'yes' or 'no', where 'yes' means that the answer is grounded in / supported by the set of facts.\n",
    "\n",
    "IF the generation includes code examples, make sure those examples are FULLY present in the set of facts, otherwise always return score 'no'.\n",
    "\"\"\"\n",
    ")\n",
    "\n",
    "HALLUCINATION_GRADER_PROMPT = ChatPromptTemplate.from_messages(\n",
    "    [\n",
    "        (\"system\", HALLUCINATION_GRADER_SYSTEM),\n",
    "        (\"human\", \"Set of facts: \\n\\n {documents} \\n\\n LLM generation: {generation}\"),\n",
    "    ]\n",
    ")\n",
    "\n",
    "\n",
    "class GradeAnswer(BaseModel):\n",
    "    \"\"\"Binary score to assess answer addresses question.\"\"\"\n",
    "\n",
    "    binary_score: str = Field(\n",
    "        description=\"Answer addresses the question, 'yes' or 'no'\"\n",
    "    )\n",
    "\n",
    "\n",
    "ANSWER_GRADER_SYSTEM = (\n",
    "\"\"\"\n",
    "You are a grader assessing whether an answer addresses / resolves a question.\n",
    "Give a binary score 'yes' or 'no', where 'yes' means that the answer resolves the question.\n",
    "\"\"\"\n",
    ")\n",
    "\n",
    "ANSWER_GRADER_PROMPT = ChatPromptTemplate.from_messages(\n",
    "    [\n",
    "        (\"system\", ANSWER_GRADER_SYSTEM),\n",
    "        (\"human\", \"User question: \\n\\n {question} \\n\\n LLM generation: {generation}\"),\n",
    "    ]\n",
    ")"
   ]
  },
  {
   "cell_type": "code",
   "execution_count": null,
   "metadata": {
    "id": "qgNKZPFRRujN"
   },
   "outputs": [],
   "source": [
    "def grade_generation_v_documents_and_question(state: GraphState, config) -> Literal[\"generate\", \"transform_query\", \"web_search\", \"finalize_response\"]:\n",
    "    \"\"\"\n",
    "    Determines whether the generation is grounded in the document and answers question.\n",
    "\n",
    "    Args:\n",
    "        state (dict): The current graph state\n",
    "\n",
    "    Returns:\n",
    "        str: Decision for next node to call\n",
    "    \"\"\"\n",
    "    question = state[\"question\"]\n",
    "    documents = state[\"documents\"]\n",
    "    generation = state[\"candidate_answer\"]\n",
    "    web_fallback = state[\"web_fallback\"]\n",
    "    retries = state[\"retries\"] if state.get(\"retries\") is not None else -1\n",
    "    max_retries = config.get(\"configurable\", {}).get(\"max_retries\", MAX_RETRIES)\n",
    "\n",
    "    # this means we've already gone through web fallback and can return to the user\n",
    "    if not web_fallback:\n",
    "        return \"finalize_response\"\n",
    "\n",
    "    if VERBOSE:\n",
    "        print(\"---CHECK HALLUCINATIONS---\")\n",
    "\n",
    "    # llm lcel chain\n",
    "    hallucination_grader = HALLUCINATION_GRADER_PROMPT | llm.with_structured_output(GradeHallucinations)\n",
    "    hallucination_grade: GradeHallucinations = hallucination_grader.invoke(\n",
    "        {\"documents\": documents, \"generation\": generation}\n",
    "    )\n",
    "\n",
    "    # Check hallucination\n",
    "    if hallucination_grade.binary_score == \"no\":\n",
    "        if VERBOSE: print(\"---DECISION: GENERATION IS NOT GROUNDED IN DOCUMENTS, RE-TRY---\")\n",
    "        return \"generate\" if retries < max_retries else \"web_search\"\n",
    "\n",
    "    if VERBOSE:\n",
    "        print(\"---DECISION: GENERATION IS GROUNDED IN DOCUMENTS---\")\n",
    "        print(\"---GRADE GENERATION vs QUESTION---\")\n",
    "\n",
    "    # Check question-answering\n",
    "    answer_grader = ANSWER_GRADER_PROMPT | llm.with_structured_output(GradeAnswer)\n",
    "    answer_grade: GradeAnswer = answer_grader.invoke({\"question\": question, \"generation\": generation})\n",
    "    if answer_grade.binary_score == \"yes\":\n",
    "        if VERBOSE: print(\"---DECISION: GENERATION ADDRESSES QUESTION---\")\n",
    "        return \"finalize_response\"\n",
    "    else:\n",
    "        if VERBOSE: print(\"---DECISION: GENERATION DOES NOT ADDRESS QUESTION---\")\n",
    "        return \"transform_query\" if retries < max_retries else \"web_search\""
   ]
  },
  {
   "cell_type": "code",
   "execution_count": null,
   "metadata": {
    "id": "t65o1e5WRyNn"
   },
   "outputs": [],
   "source": [
    "workflow = StateGraph(GraphState, config_schema=GraphConfig)\n",
    "\n",
    "# Define the nodes\n",
    "workflow.add_node(\"document_search\", document_search)\n",
    "workflow.add_node(\"generate\", generate)\n",
    "workflow.add_node(\"transform_query\", transform_query)\n",
    "workflow.add_node(\"web_search\", web_search)\n",
    "workflow.add_node(\"finalize_response\", finalize_response)\n",
    "\n",
    "# Build graph\n",
    "workflow.set_entry_point(\"document_search\")\n",
    "workflow.add_edge(\"document_search\", \"generate\")\n",
    "workflow.add_edge(\"transform_query\", \"document_search\")\n",
    "workflow.add_edge(\"web_search\", \"generate\")\n",
    "workflow.add_edge(\"finalize_response\", END)\n",
    "\n",
    "workflow.add_conditional_edges(\n",
    "    \"generate\",\n",
    "    grade_generation_v_documents_and_question\n",
    ")\n",
    "\n",
    "# Compile\n",
    "graph = workflow.compile()"
   ]
  },
  {
   "cell_type": "code",
   "execution_count": null,
   "metadata": {
    "colab": {
     "base_uri": "https://localhost:8080/"
    },
    "executionInfo": {
     "elapsed": 3184,
     "status": "ok",
     "timestamp": 1737053311616,
     "user": {
      "displayName": "YuXing Wu",
      "userId": "06505796107505570616"
     },
     "user_tz": -480
    },
    "id": "Kux9IQgXSD3E",
    "outputId": "871ad30c-c212-4ed1-ac80-b4bbaea4441b"
   },
   "outputs": [
    {
     "name": "stdout",
     "output_type": "stream",
     "text": [
      "---RETRIEVE---\n",
      "{'document_search': {'documents': [Document(metadata={'row': 74, 'source': 'law_data_3k.csv'}, page_content='data: 民法商法-消费者权益保护法2013-10-25：第五十五条 经营者提供商品或者服务有欺诈行为的，应当按照消费者的要求增加赔偿其受到的损失，增加赔偿的金额为消费者购买商品的价款或者接受服务的费用的三倍；增加赔偿的金额不足五百元的，为五百元。法律另有规定的，依照其规定。,经营者明知商品或者服务存在缺陷，仍然向消费者提供，造成消费者或者其他受害人死亡或者健康严重损害的，受害人有权要求经营者依照本法第四十九条、第五十一条等法律规定赔偿损失，并有权要求所受损失二倍以下的惩罚性赔偿。'), Document(metadata={'row': 77, 'source': 'law_data_3k.csv'}, page_content='data: 民法商法-消费者权益保护法2013-10-25：第五十八条 经营者违反本法规定，应当承担民事赔偿责任和缴纳罚款、罚金，其财产不足以同时支付的，先承担民事赔偿责任。'), Document(metadata={'row': 62, 'source': 'law_data_3k.csv'}, page_content='data: 民法商法-消费者权益保护法2013-10-25：第四十三条 消费者在展销会、租赁柜台购买商品或者接受服务，其合法权益受到损害的，可以向销售者或者服务者要求赔偿。展销会结束或者柜台租赁期满后，也可以向展销会的举办者、柜台的出租者要求赔偿。展销会的举办者、柜台的出租者赔偿后，有权向销售者或者服务者追偿。'), Document(metadata={'row': 1101, 'source': 'law_data_3k.csv'}, page_content='data: 江*赣*章*区饿了么外卖拖欠骑手工资，广大消费者\\n拖欠工资，不发工资、克扣工资可以打12###电话投诉，该电话是人力资源和社会保障局的电话。也可以到劳*局****投诉。由于公司未能按时发放劳*报酬，当事人可以申请解除劳*合同和劳*关系，并要求经济补偿。当事人可以向当地劳***行*部*进行举报，由劳*****责令用人单位支付工资，劳*****协调不成的，劳*者可以申请劳*仲裁。《劳*合同法》第八十五条：用人单位有下列情形之一的，由劳*行*部*责令限期支付劳*报酬、加班费或者经济补偿；劳*报酬低于当地最低工资标准的，应当支付其差额部分；逾期不支付的，责令用人单位按应付金额百分之五十以上百分之一百以下的标准向劳*者加付赔偿金：（一）未按照劳*合同的约定或者国家规定及时足额支付劳*者劳*报酬的；（二）低于当地最低工资标准支付劳*者工资的；（三）安排加班不支付加班费的；（四）解除或者终止劳*合同，未依照本法规定向劳*者支付经济补偿的。')], 'question': '你现在是一个精通中国法律的法官， 请对以下案件做出分析：2012年5月1日，原告xxx在被告xxxx购买“玉兔牌”香肠15包，其中价值558.6元的14包香肠已过保质期。xxx到收银台结账后，即径直到服务台索赔，后因协商未果诉至法院，要求xxxx店支付14包香肠售价十倍的赔偿金5586元。', 'web_fallback': True}}\n",
      "\n",
      "---\n",
      "\n",
      "---GENERATE---\n",
      "---CHECK HALLUCINATIONS---\n"
     ]
    },
    {
     "name": "stderr",
     "output_type": "stream",
     "text": [
      "/usr/local/lib/python3.10/dist-packages/langchain_openai/chat_models/base.py:1354: UserWarning: Received a Pydantic BaseModel V1 schema. This is not supported by method=\"json_schema\". Please use method=\"function_calling\" or specify schema via JSON Schema or Pydantic V2 BaseModel. Overriding to method=\"function_calling\".\n",
      "  warnings.warn(\n"
     ]
    },
    {
     "name": "stdout",
     "output_type": "stream",
     "text": [
      "---DECISION: GENERATION IS GROUNDED IN DOCUMENTS---\n",
      "---GRADE GENERATION vs QUESTION---\n"
     ]
    },
    {
     "name": "stderr",
     "output_type": "stream",
     "text": [
      "/usr/local/lib/python3.10/dist-packages/langchain_openai/chat_models/base.py:1354: UserWarning: Received a Pydantic BaseModel V1 schema. This is not supported by method=\"json_schema\". Please use method=\"function_calling\" or specify schema via JSON Schema or Pydantic V2 BaseModel. Overriding to method=\"function_calling\".\n",
      "  warnings.warn(\n"
     ]
    },
    {
     "name": "stdout",
     "output_type": "stream",
     "text": [
      "---DECISION: GENERATION ADDRESSES QUESTION---\n",
      "{'generate': {'retries': 0, 'candidate_answer': '根据《消费者权益保护法》第五十五条，经营者提供过期商品属于欺诈行为，消费者有权要求增加赔偿。增加赔偿的金额为消费者购买商品的价款的三倍，但不足五百元的，为五百元。因此，原告可以要求三倍赔偿，即558.6元的三倍为1675.8元，而不是十倍赔偿。'}}\n",
      "\n",
      "---\n",
      "\n",
      "---FINALIZING THE RESPONSE---\n",
      "{'finalize_response': {'messages': [AIMessage(content='根据《消费者权益保护法》第五十五条，经营者提供过期商品属于欺诈行为，消费者有权要求增加赔偿。增加赔偿的金额为消费者购买商品的价款的三倍，但不足五百元的，为五百元。因此，原告可以要求三倍赔偿，即558.6元的三倍为1675.8元，而不是十倍赔偿。', additional_kwargs={}, response_metadata={}, id='f2193137-30ba-4bbc-b2d6-b28808103543')]}}\n",
      "\n",
      "---\n",
      "\n"
     ]
    }
   ],
   "source": [
    "VERBOSE = True\n",
    "inputs = {\"messages\": [(\"你现在是一个精通中国法律的法官， 请对以下案件做出分析：2012年5月1日，原告xxx在被告xxxx购买“玉兔牌”香肠15包，其中价值558.6元的14包香肠已过保质期。xxx到收银台结账后，即径直到服务台索赔，后因协商未果诉至法院，要求xxxx店支付14包香肠售价十倍的赔偿金5586元。\")]}\n",
    "for output in graph.stream(inputs):\n",
    "    print(output)\n",
    "    print(\"\\n---\\n\")"
   ]
  }
 ],
 "metadata": {
  "colab": {
   "authorship_tag": "ABX9TyP63fQD57D+rb5SIHDEsQHn",
   "provenance": []
  },
  "kernelspec": {
   "display_name": "Python 3",
   "name": "python3"
  },
  "language_info": {
   "name": "python"
  }
 },
 "nbformat": 4,
 "nbformat_minor": 0
}
